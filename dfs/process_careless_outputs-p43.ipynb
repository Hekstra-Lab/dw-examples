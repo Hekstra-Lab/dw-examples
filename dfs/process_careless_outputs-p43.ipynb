{
 "cells": [
  {
   "cell_type": "markdown",
   "id": "ff607c13-ca6d-417d-ba4a-64e4ef75f82e",
   "metadata": {},
   "source": [
    "# Processing careless outputs"
   ]
  },
  {
   "cell_type": "markdown",
   "id": "1e0bef42-dfa2-474e-8522-3c3f00d21cc5",
   "metadata": {},
   "source": [
    "`/n/holyscratch01/hekstra_lab/hwang/monochromatic/dfs/process/process_careless_outputs.ipynb`"
   ]
  },
  {
   "cell_type": "markdown",
   "id": "6c0772cf-117a-46f1-bb77-f5f4a0436cb3",
   "metadata": {},
   "source": [
    "In this notebook, I process a few test drug fragment screening careless runs and summarize resultant statistics. I explore the effect of varying $r_{dw}$, `student-t-dof`, number of iterations, and number of holo datasets on the CCpred and the difference map peak heights, and I find that number of datasets doesn't appreciably affect these readouts. Additionally, for a dataset number equal to 4, I find that the optimal $r_{dw}$=0.9 and `student-t-dof`=128. "
   ]
  },
  {
   "cell_type": "markdown",
   "id": "3ab6949a-d088-40a2-9f5b-0c903c8f84a0",
   "metadata": {},
   "source": [
    "Up until this point, I have checked the indexing ambiguity and flipped any datasets that have low pearson correlation with the reference. I manually reject outliers by throwing away reflections with intensity >2e5. the cleaned data are then input into `careless`. An example `careless` script can be found at `careless_first4-mlp_layers-rdw0,9_stdT.sh` in this folder. "
   ]
  },
  {
   "cell_type": "markdown",
   "id": "a29f65f8-0125-4e3d-8b37-4442c89c2621",
   "metadata": {},
   "source": [
    "## I process the drug fragment screening `careless` runs as follows:\n",
    "\n",
    "For each careless run, I run the processing cells once. At the end of this notebook, I provide a summary of some relevant statistics. \n",
    "1) I compute CChalf and CCpred using the `careless` functions, which is done in `stats_for_production.sh`. I compute both statistics as a function of resolution bin as well as an overall CChalf/CCpred. \n",
    "2) I rigid-body refine selected MTZ files against the apo_edit.pdb file, which is done in `autorefine.sh`. I usually RBR the `merged_{1,2,3}.mtz` files and sometimes the `{4,5}.mtz` files. For a general careless run, the numbering is:\n",
    "\n",
    "| careless output number | description |\n",
    "|------|--------|\n",
    "| 0 | apo reference |\n",
    "| 1 | apo experiment (negative control) |\n",
    "| 2 | holo P0115 | \n",
    "| 3 | holo P0116 | \n",
    "| 4 | holo P0123 | \n",
    "| 5 | holo P0124 |\n",
    "\n",
    "\n",
    "3) I compute difference maps of holo minus apo experiment using `rs.diffmap` with $\\alpha=0.05$ weights and keeping only reflection with resolution in the 5-0.89 Å range. I measure difference peak heights using `rs.find_difference_peaks`, which is done in `make_diffmap.sh`. \n",
    "4) I summarize the statistics below.  "
   ]
  },
  {
   "cell_type": "code",
   "execution_count": 1,
   "id": "d719efe9-25a6-4c95-93dc-e19ec199392c",
   "metadata": {},
   "outputs": [],
   "source": [
    "import os\n",
    "import time\n",
    "import pandas as pd\n",
    "import glob\n",
    "import numpy as np\n",
    "import reciprocalspaceship as rs"
   ]
  },
  {
   "cell_type": "code",
   "execution_count": 2,
   "id": "462cef0a-183e-4330-98d5-54fa1dca5e22",
   "metadata": {},
   "outputs": [],
   "source": [
    "os.environ[\"target_dir\"]=\"careless_runs/merge_20103448_19373_mono_mc1_10k_grid_7\""
   ]
  },
  {
   "cell_type": "code",
   "execution_count": 7,
   "id": "5650db39-3577-4141-8d10-b9e7b88a8304",
   "metadata": {},
   "outputs": [
    {
     "data": {
      "text/plain": [
       "<gemmi.SpaceGroup(\"P 43\")>"
      ]
     },
     "execution_count": 7,
     "metadata": {},
     "output_type": "execute_result"
    }
   ],
   "source": [
    "rs.read_mtz(\"careless_runs/merge_20103448_19373_mono_mc1_10k_grid_7/dfs_0.mtz\").spacegroup"
   ]
  },
  {
   "cell_type": "code",
   "execution_count": 8,
   "id": "03233fe9-421c-40a5-9504-9d604519cec6",
   "metadata": {
    "scrolled": true,
    "tags": []
   },
   "outputs": [
    {
     "name": "stdout",
     "output_type": "stream",
     "text": [
      "Submitted batch job 20379183\n"
     ]
    }
   ],
   "source": [
    "%%bash\n",
    "for dir in ${target_dir} ;do \n",
    "#for dir in out_test_first4-no_dw;do\n",
    "    #sbatch make_diffmap-cut_1,5.sh ${dir}\n",
    "    sbatch make_diffmap_norbr-noweights.sh ${dir}\n",
    "done"
   ]
  },
  {
   "cell_type": "code",
   "execution_count": 4,
   "id": "a684eea7-1939-4c25-a206-f1732b30fe4c",
   "metadata": {},
   "outputs": [
    {
     "name": "stderr",
     "output_type": "stream",
     "text": [
      "cp: cannot stat '../../autorefine.sh': No such file or directory\n",
      "sbatch: error: Unable to open file scripts/autorefine.sh\n",
      "sbatch: error: Unable to open file scripts/autorefine.sh\n",
      "sbatch: error: Unable to open file scripts/autorefine.sh\n",
      "sbatch: error: Unable to open file scripts/autorefine.sh\n",
      "sbatch: error: Unable to open file scripts/autorefine.sh\n",
      "cp: cannot stat '../../autorefine.sh': No such file or directory\n",
      "sbatch: error: Unable to open file scripts/autorefine.sh\n",
      "sbatch: error: Unable to open file scripts/autorefine.sh\n",
      "sbatch: error: Unable to open file scripts/autorefine.sh\n",
      "sbatch: error: Unable to open file scripts/autorefine.sh\n",
      "sbatch: error: Unable to open file scripts/autorefine.sh\n",
      "cp: cannot stat '../../autorefine.sh': No such file or directory\n",
      "sbatch: error: Unable to open file scripts/autorefine.sh\n",
      "sbatch: error: Unable to open file scripts/autorefine.sh\n",
      "sbatch: error: Unable to open file scripts/autorefine.sh\n",
      "sbatch: error: Unable to open file scripts/autorefine.sh\n",
      "sbatch: error: Unable to open file scripts/autorefine.sh\n"
     ]
    }
   ],
   "source": [
    "%%bash\n",
    "#out_test_first4-rdw0,8_stdT128 out_test_first4-rdw0,99_stdT128 \n",
    "for dir in ${target_dir} ;do \n",
    "    mkdir ${dir}/phenix\n",
    "    cd ${dir}/phenix\n",
    "    cp ../../autorefine.sh .\n",
    "    \n",
    "    for dataset in {1..5};do\n",
    "\n",
    "        #for the old datasets, like those from out_test_first20-in_order, we should use the flipped datasets .._flip.mtz. \n",
    "        sbatch scripts/autorefine.sh ../ $dataset merged_e35_${dataset}.mtz ../apo_edit_new.pdb\n",
    "    done \n",
    "    cd ../../\n",
    "done"
   ]
  },
  {
   "cell_type": "code",
   "execution_count": null,
   "id": "14d81cee-6256-4ca4-b217-583faacc3165",
   "metadata": {},
   "outputs": [],
   "source": [
    "time.sleep(240)"
   ]
  },
  {
   "cell_type": "markdown",
   "id": "b75cd342-e8ed-487e-94c7-5cc10f3b666b",
   "metadata": {},
   "source": [
    "# CCpred  "
   ]
  },
  {
   "cell_type": "code",
   "execution_count": 9,
   "id": "67251070-ae55-48fe-831f-f4f7b9d7f42a",
   "metadata": {
    "scrolled": true,
    "tags": []
   },
   "outputs": [
    {
     "name": "stdout",
     "output_type": "stream",
     "text": [
      "/n/holyscratch01/hekstra_lab/hwang/monochromatic/dfs/process\n",
      "/n/holyscratch01/hekstra_lab/hwang/monochromatic/dfs/process/out_test_first16-rdw0,936_stdT16-ohp-mlpw25-alf\n"
     ]
    },
    {
     "name": "stderr",
     "output_type": "stream",
     "text": [
      "Traceback (most recent call last):\n",
      "  File \"/net/holy-nfsisilon/ifs/rc_labs/hekstra_lab/people/hwang/anaconda/envs/careless/bin/careless.ccpred\", line 8, in <module>\n",
      "    sys.exit(main())\n",
      "  File \"/net/holy-nfsisilon/ifs/rc_labs/hekstra_lab/people/hwang/anaconda/envs/careless/lib/python3.10/site-packages/careless/stats/ccpred.py\", line 141, in main\n",
      "    run_analysis(parser)\n",
      "  File \"/net/holy-nfsisilon/ifs/rc_labs/hekstra_lab/people/hwang/anaconda/envs/careless/lib/python3.10/site-packages/careless/stats/ccpred.py\", line 68, in run_analysis\n",
      "    _ds = rs.read_mtz(m)\n",
      "  File \"/net/holy-nfsisilon/ifs/rc_labs/hekstra_lab/people/hwang/anaconda/envs/careless/lib/python3.10/site-packages/reciprocalspaceship/io/mtz.py\", line 187, in read_mtz\n",
      "    gemmi_mtz = gemmi.read_mtz_file(mtzfile)\n",
      "FileNotFoundError: [Errno 2] Failed to open merged_e35_predictions_*.mtz: No such file or directory\n"
     ]
    }
   ],
   "source": [
    "%%bash\n",
    "for file in ${target_dir};do\n",
    "    sh scripts/stats_for_production.sh $file\n",
    "done"
   ]
  },
  {
   "cell_type": "markdown",
   "id": "69fd6d18-945a-4cce-ae0b-507569f94d57",
   "metadata": {},
   "source": [
    "# Summary statistics"
   ]
  },
  {
   "cell_type": "markdown",
   "id": "d76e94a3-913c-4c00-9475-932e6bc57939",
   "metadata": {
    "tags": []
   },
   "source": [
    "## all datasets"
   ]
  },
  {
   "cell_type": "code",
   "execution_count": 4,
   "id": "cbff8800-bb37-45c3-bed7-9712fa2f2881",
   "metadata": {},
   "outputs": [],
   "source": [
    "file_list = [\"careless_runs/merge_20103448_19373_mono_mc1_10k_grid_7\"\n",
    "                            \n",
    "                           ]\n",
    "# for i,file_in in enumerate(file_list):\n",
    "#     os.system(f\"sbatch scripts/make_diffmap_norbr-noweights.sh {file_in}\")\n"
   ]
  },
  {
   "cell_type": "code",
   "execution_count": 8,
   "id": "cf59cfb9-9d77-42f7-8247-08e3728cc05a",
   "metadata": {},
   "outputs": [
    {
     "name": "stdout",
     "output_type": "stream",
     "text": [
      "    careless run                                       dataset    CCpred,test          top 5 ligand peak rmsds\n",
      "________________________________________________________________________________________________________________________\n",
      " 0  out_test_first8-rdw0,936_stdT16-ohp                P0115      0.9966               [36.2, -19.71, -17.75, -17.72, 15.87]\n",
      " 0  out_test_first8-rdw0,936_stdT16-ohp                P0116      0.9874               [-13.83, 8.9, 7.96, -7.95, -7.72]\n",
      "------------------------------------------------------------------------------------------------------------------------\n",
      " 1  out_test_first8-rdw0,936_stdT16-ohp-mlpw           P0115      0.9967               [36.57, -19.85, -17.94, -17.34, 15.38]\n",
      " 1  out_test_first8-rdw0,936_stdT16-ohp-mlpw           P0116      0.9877               [-14.61, 9.32, 8.77, -8.44, -7.93]\n",
      "------------------------------------------------------------------------------------------------------------------------\n",
      " 2  out_test_first4-rdw0,936_stdT16                    P0115      0.9966               [34.69, -19.32, -17.34, -16.82, 15.21]\n",
      " 2  out_test_first4-rdw0,936_stdT16                    P0116      0.9866               [-13.79, -8.37, 8.18, 8.05, -7.76]\n",
      "------------------------------------------------------------------------------------------------------------------------\n",
      " 3  out_test_first4-all_metadata                       P0115      0.9969               [30.47, -16.76, 15.19, -14.76, -14.63]\n",
      " 3  out_test_first4-all_metadata                       P0116      0.9886               [-12.18, 7.07, 7.03, -6.94, 6.72]\n",
      "------------------------------------------------------------------------------------------------------------------------\n",
      " 4  out_test_first3-rdw0,936_stdT16-ohp-mlpw15         P0115      0.9968               [36.94, -20.61, -18.6, -18.39, 15.7]\n",
      " 4  out_test_first3-rdw0,936_stdT16-ohp-mlpw15         P0116      0.9881               [-14.68, 8.71, -8.31, 8.17, -7.59]\n",
      "------------------------------------------------------------------------------------------------------------------------\n",
      " 5  out_test_first4-rdw0,936_stdT16-ohp-mlpw15         P0115      0.9968               [37.05, -20.26, -18.68, -18.21, 15.4]\n",
      " 5  out_test_first4-rdw0,936_stdT16-ohp-mlpw15         P0116      0.9881               [-14.68, 9.18, -8.36, -8.17, 7.97]\n",
      "------------------------------------------------------------------------------------------------------------------------\n",
      " 6  out_test_first8-rdw0,936_stdT16-ohp-mlpw-alf       P0115      0.9967               [37.55, -20.0, -18.51, -17.75, 15.97]\n",
      " 6  out_test_first8-rdw0,936_stdT16-ohp-mlpw-alf       P0116      0.9879               [-14.21, 9.03, 8.84, -8.29, -7.86]\n",
      "------------------------------------------------------------------------------------------------------------------------\n",
      " 7  out_test_first8-rdw0,936_stdT16-ohp-mlpw40-alf     P0115      0.9969               [37.66, -20.23, -18.4, -18.08, 15.72]\n",
      " 7  out_test_first8-rdw0,936_stdT16-ohp-mlpw40-alf     P0116      0.9883               [-14.97, 9.34, -8.63, 8.4, -7.9]\n",
      "------------------------------------------------------------------------------------------------------------------------\n"
     ]
    },
    {
     "ename": "FileNotFoundError",
     "evalue": "[Errno 2] No such file or directory: 'out_test_first16-rdw0,936_stdT16-ohp-mlpw25-alf/e35_ccpred_b.csv'",
     "output_type": "error",
     "traceback": [
      "\u001b[0;31m---------------------------------------------------------------------------\u001b[0m",
      "\u001b[0;31mFileNotFoundError\u001b[0m                         Traceback (most recent call last)",
      "Cell \u001b[0;32mIn[8], line 14\u001b[0m\n\u001b[1;32m     11\u001b[0m p0116_heights \u001b[38;5;241m=\u001b[39m p0116_heights[\u001b[38;5;124m\"\u001b[39m\u001b[38;5;124mpeakz\u001b[39m\u001b[38;5;124m\"\u001b[39m][:\u001b[38;5;241m5\u001b[39m]\u001b[38;5;241m.\u001b[39mto_numpy()\u001b[38;5;241m.\u001b[39mround(decimals\u001b[38;5;241m=\u001b[39m\u001b[38;5;241m2\u001b[39m)\n\u001b[1;32m     13\u001b[0m \u001b[38;5;66;03m#extract the test CCpred of each holo mtz file\u001b[39;00m\n\u001b[0;32m---> 14\u001b[0m bulk_ccpreds \u001b[38;5;241m=\u001b[39m \u001b[43mpd\u001b[49m\u001b[38;5;241;43m.\u001b[39;49m\u001b[43mread_csv\u001b[49m\u001b[43m(\u001b[49m\u001b[38;5;124;43mf\u001b[39;49m\u001b[38;5;124;43m\"\u001b[39;49m\u001b[38;5;132;43;01m{\u001b[39;49;00m\u001b[43mfile_in\u001b[49m\u001b[38;5;132;43;01m}\u001b[39;49;00m\u001b[38;5;124;43m/e35_ccpred_b.csv\u001b[39;49m\u001b[38;5;124;43m\"\u001b[39;49m\u001b[43m)\u001b[49m\n\u001b[1;32m     16\u001b[0m ccpred_p0115_condition \u001b[38;5;241m=\u001b[39m (bulk_ccpreds[\u001b[38;5;124m\"\u001b[39m\u001b[38;5;124mfile\u001b[39m\u001b[38;5;124m\"\u001b[39m]\u001b[38;5;241m==\u001b[39m\u001b[38;5;124m\"\u001b[39m\u001b[38;5;124mmerged_e35_predictions_2.mtz\u001b[39m\u001b[38;5;124m\"\u001b[39m\n\u001b[1;32m     17\u001b[0m                          )\u001b[38;5;241m*\u001b[39m(bulk_ccpreds[\u001b[38;5;124m\"\u001b[39m\u001b[38;5;124mtest\u001b[39m\u001b[38;5;124m\"\u001b[39m]\u001b[38;5;241m==\u001b[39m\u001b[38;5;124m\"\u001b[39m\u001b[38;5;124mTest\u001b[39m\u001b[38;5;124m\"\u001b[39m)\n\u001b[1;32m     18\u001b[0m bulk_ccpred_p0115 \u001b[38;5;241m=\u001b[39m bulk_ccpreds[ccpred_p0115_condition][\u001b[38;5;124m\"\u001b[39m\u001b[38;5;124mCCpred\u001b[39m\u001b[38;5;124m\"\u001b[39m]\n",
      "File \u001b[0;32m/net/holy-nfsisilon/ifs/rc_labs/hekstra_lab/people/hwang/anaconda/envs/laue/lib/python3.11/site-packages/pandas/io/parsers/readers.py:912\u001b[0m, in \u001b[0;36mread_csv\u001b[0;34m(filepath_or_buffer, sep, delimiter, header, names, index_col, usecols, dtype, engine, converters, true_values, false_values, skipinitialspace, skiprows, skipfooter, nrows, na_values, keep_default_na, na_filter, verbose, skip_blank_lines, parse_dates, infer_datetime_format, keep_date_col, date_parser, date_format, dayfirst, cache_dates, iterator, chunksize, compression, thousands, decimal, lineterminator, quotechar, quoting, doublequote, escapechar, comment, encoding, encoding_errors, dialect, on_bad_lines, delim_whitespace, low_memory, memory_map, float_precision, storage_options, dtype_backend)\u001b[0m\n\u001b[1;32m    899\u001b[0m kwds_defaults \u001b[38;5;241m=\u001b[39m _refine_defaults_read(\n\u001b[1;32m    900\u001b[0m     dialect,\n\u001b[1;32m    901\u001b[0m     delimiter,\n\u001b[0;32m   (...)\u001b[0m\n\u001b[1;32m    908\u001b[0m     dtype_backend\u001b[38;5;241m=\u001b[39mdtype_backend,\n\u001b[1;32m    909\u001b[0m )\n\u001b[1;32m    910\u001b[0m kwds\u001b[38;5;241m.\u001b[39mupdate(kwds_defaults)\n\u001b[0;32m--> 912\u001b[0m \u001b[38;5;28;01mreturn\u001b[39;00m \u001b[43m_read\u001b[49m\u001b[43m(\u001b[49m\u001b[43mfilepath_or_buffer\u001b[49m\u001b[43m,\u001b[49m\u001b[43m \u001b[49m\u001b[43mkwds\u001b[49m\u001b[43m)\u001b[49m\n",
      "File \u001b[0;32m/net/holy-nfsisilon/ifs/rc_labs/hekstra_lab/people/hwang/anaconda/envs/laue/lib/python3.11/site-packages/pandas/io/parsers/readers.py:577\u001b[0m, in \u001b[0;36m_read\u001b[0;34m(filepath_or_buffer, kwds)\u001b[0m\n\u001b[1;32m    574\u001b[0m _validate_names(kwds\u001b[38;5;241m.\u001b[39mget(\u001b[38;5;124m\"\u001b[39m\u001b[38;5;124mnames\u001b[39m\u001b[38;5;124m\"\u001b[39m, \u001b[38;5;28;01mNone\u001b[39;00m))\n\u001b[1;32m    576\u001b[0m \u001b[38;5;66;03m# Create the parser.\u001b[39;00m\n\u001b[0;32m--> 577\u001b[0m parser \u001b[38;5;241m=\u001b[39m \u001b[43mTextFileReader\u001b[49m\u001b[43m(\u001b[49m\u001b[43mfilepath_or_buffer\u001b[49m\u001b[43m,\u001b[49m\u001b[43m \u001b[49m\u001b[38;5;241;43m*\u001b[39;49m\u001b[38;5;241;43m*\u001b[39;49m\u001b[43mkwds\u001b[49m\u001b[43m)\u001b[49m\n\u001b[1;32m    579\u001b[0m \u001b[38;5;28;01mif\u001b[39;00m chunksize \u001b[38;5;129;01mor\u001b[39;00m iterator:\n\u001b[1;32m    580\u001b[0m     \u001b[38;5;28;01mreturn\u001b[39;00m parser\n",
      "File \u001b[0;32m/net/holy-nfsisilon/ifs/rc_labs/hekstra_lab/people/hwang/anaconda/envs/laue/lib/python3.11/site-packages/pandas/io/parsers/readers.py:1407\u001b[0m, in \u001b[0;36mTextFileReader.__init__\u001b[0;34m(self, f, engine, **kwds)\u001b[0m\n\u001b[1;32m   1404\u001b[0m     \u001b[38;5;28mself\u001b[39m\u001b[38;5;241m.\u001b[39moptions[\u001b[38;5;124m\"\u001b[39m\u001b[38;5;124mhas_index_names\u001b[39m\u001b[38;5;124m\"\u001b[39m] \u001b[38;5;241m=\u001b[39m kwds[\u001b[38;5;124m\"\u001b[39m\u001b[38;5;124mhas_index_names\u001b[39m\u001b[38;5;124m\"\u001b[39m]\n\u001b[1;32m   1406\u001b[0m \u001b[38;5;28mself\u001b[39m\u001b[38;5;241m.\u001b[39mhandles: IOHandles \u001b[38;5;241m|\u001b[39m \u001b[38;5;28;01mNone\u001b[39;00m \u001b[38;5;241m=\u001b[39m \u001b[38;5;28;01mNone\u001b[39;00m\n\u001b[0;32m-> 1407\u001b[0m \u001b[38;5;28mself\u001b[39m\u001b[38;5;241m.\u001b[39m_engine \u001b[38;5;241m=\u001b[39m \u001b[38;5;28;43mself\u001b[39;49m\u001b[38;5;241;43m.\u001b[39;49m\u001b[43m_make_engine\u001b[49m\u001b[43m(\u001b[49m\u001b[43mf\u001b[49m\u001b[43m,\u001b[49m\u001b[43m \u001b[49m\u001b[38;5;28;43mself\u001b[39;49m\u001b[38;5;241;43m.\u001b[39;49m\u001b[43mengine\u001b[49m\u001b[43m)\u001b[49m\n",
      "File \u001b[0;32m/net/holy-nfsisilon/ifs/rc_labs/hekstra_lab/people/hwang/anaconda/envs/laue/lib/python3.11/site-packages/pandas/io/parsers/readers.py:1661\u001b[0m, in \u001b[0;36mTextFileReader._make_engine\u001b[0;34m(self, f, engine)\u001b[0m\n\u001b[1;32m   1659\u001b[0m     \u001b[38;5;28;01mif\u001b[39;00m \u001b[38;5;124m\"\u001b[39m\u001b[38;5;124mb\u001b[39m\u001b[38;5;124m\"\u001b[39m \u001b[38;5;129;01mnot\u001b[39;00m \u001b[38;5;129;01min\u001b[39;00m mode:\n\u001b[1;32m   1660\u001b[0m         mode \u001b[38;5;241m+\u001b[39m\u001b[38;5;241m=\u001b[39m \u001b[38;5;124m\"\u001b[39m\u001b[38;5;124mb\u001b[39m\u001b[38;5;124m\"\u001b[39m\n\u001b[0;32m-> 1661\u001b[0m \u001b[38;5;28mself\u001b[39m\u001b[38;5;241m.\u001b[39mhandles \u001b[38;5;241m=\u001b[39m \u001b[43mget_handle\u001b[49m\u001b[43m(\u001b[49m\n\u001b[1;32m   1662\u001b[0m \u001b[43m    \u001b[49m\u001b[43mf\u001b[49m\u001b[43m,\u001b[49m\n\u001b[1;32m   1663\u001b[0m \u001b[43m    \u001b[49m\u001b[43mmode\u001b[49m\u001b[43m,\u001b[49m\n\u001b[1;32m   1664\u001b[0m \u001b[43m    \u001b[49m\u001b[43mencoding\u001b[49m\u001b[38;5;241;43m=\u001b[39;49m\u001b[38;5;28;43mself\u001b[39;49m\u001b[38;5;241;43m.\u001b[39;49m\u001b[43moptions\u001b[49m\u001b[38;5;241;43m.\u001b[39;49m\u001b[43mget\u001b[49m\u001b[43m(\u001b[49m\u001b[38;5;124;43m\"\u001b[39;49m\u001b[38;5;124;43mencoding\u001b[39;49m\u001b[38;5;124;43m\"\u001b[39;49m\u001b[43m,\u001b[49m\u001b[43m \u001b[49m\u001b[38;5;28;43;01mNone\u001b[39;49;00m\u001b[43m)\u001b[49m\u001b[43m,\u001b[49m\n\u001b[1;32m   1665\u001b[0m \u001b[43m    \u001b[49m\u001b[43mcompression\u001b[49m\u001b[38;5;241;43m=\u001b[39;49m\u001b[38;5;28;43mself\u001b[39;49m\u001b[38;5;241;43m.\u001b[39;49m\u001b[43moptions\u001b[49m\u001b[38;5;241;43m.\u001b[39;49m\u001b[43mget\u001b[49m\u001b[43m(\u001b[49m\u001b[38;5;124;43m\"\u001b[39;49m\u001b[38;5;124;43mcompression\u001b[39;49m\u001b[38;5;124;43m\"\u001b[39;49m\u001b[43m,\u001b[49m\u001b[43m \u001b[49m\u001b[38;5;28;43;01mNone\u001b[39;49;00m\u001b[43m)\u001b[49m\u001b[43m,\u001b[49m\n\u001b[1;32m   1666\u001b[0m \u001b[43m    \u001b[49m\u001b[43mmemory_map\u001b[49m\u001b[38;5;241;43m=\u001b[39;49m\u001b[38;5;28;43mself\u001b[39;49m\u001b[38;5;241;43m.\u001b[39;49m\u001b[43moptions\u001b[49m\u001b[38;5;241;43m.\u001b[39;49m\u001b[43mget\u001b[49m\u001b[43m(\u001b[49m\u001b[38;5;124;43m\"\u001b[39;49m\u001b[38;5;124;43mmemory_map\u001b[39;49m\u001b[38;5;124;43m\"\u001b[39;49m\u001b[43m,\u001b[49m\u001b[43m \u001b[49m\u001b[38;5;28;43;01mFalse\u001b[39;49;00m\u001b[43m)\u001b[49m\u001b[43m,\u001b[49m\n\u001b[1;32m   1667\u001b[0m \u001b[43m    \u001b[49m\u001b[43mis_text\u001b[49m\u001b[38;5;241;43m=\u001b[39;49m\u001b[43mis_text\u001b[49m\u001b[43m,\u001b[49m\n\u001b[1;32m   1668\u001b[0m \u001b[43m    \u001b[49m\u001b[43merrors\u001b[49m\u001b[38;5;241;43m=\u001b[39;49m\u001b[38;5;28;43mself\u001b[39;49m\u001b[38;5;241;43m.\u001b[39;49m\u001b[43moptions\u001b[49m\u001b[38;5;241;43m.\u001b[39;49m\u001b[43mget\u001b[49m\u001b[43m(\u001b[49m\u001b[38;5;124;43m\"\u001b[39;49m\u001b[38;5;124;43mencoding_errors\u001b[39;49m\u001b[38;5;124;43m\"\u001b[39;49m\u001b[43m,\u001b[49m\u001b[43m \u001b[49m\u001b[38;5;124;43m\"\u001b[39;49m\u001b[38;5;124;43mstrict\u001b[39;49m\u001b[38;5;124;43m\"\u001b[39;49m\u001b[43m)\u001b[49m\u001b[43m,\u001b[49m\n\u001b[1;32m   1669\u001b[0m \u001b[43m    \u001b[49m\u001b[43mstorage_options\u001b[49m\u001b[38;5;241;43m=\u001b[39;49m\u001b[38;5;28;43mself\u001b[39;49m\u001b[38;5;241;43m.\u001b[39;49m\u001b[43moptions\u001b[49m\u001b[38;5;241;43m.\u001b[39;49m\u001b[43mget\u001b[49m\u001b[43m(\u001b[49m\u001b[38;5;124;43m\"\u001b[39;49m\u001b[38;5;124;43mstorage_options\u001b[39;49m\u001b[38;5;124;43m\"\u001b[39;49m\u001b[43m,\u001b[49m\u001b[43m \u001b[49m\u001b[38;5;28;43;01mNone\u001b[39;49;00m\u001b[43m)\u001b[49m\u001b[43m,\u001b[49m\n\u001b[1;32m   1670\u001b[0m \u001b[43m\u001b[49m\u001b[43m)\u001b[49m\n\u001b[1;32m   1671\u001b[0m \u001b[38;5;28;01massert\u001b[39;00m \u001b[38;5;28mself\u001b[39m\u001b[38;5;241m.\u001b[39mhandles \u001b[38;5;129;01mis\u001b[39;00m \u001b[38;5;129;01mnot\u001b[39;00m \u001b[38;5;28;01mNone\u001b[39;00m\n\u001b[1;32m   1672\u001b[0m f \u001b[38;5;241m=\u001b[39m \u001b[38;5;28mself\u001b[39m\u001b[38;5;241m.\u001b[39mhandles\u001b[38;5;241m.\u001b[39mhandle\n",
      "File \u001b[0;32m/net/holy-nfsisilon/ifs/rc_labs/hekstra_lab/people/hwang/anaconda/envs/laue/lib/python3.11/site-packages/pandas/io/common.py:859\u001b[0m, in \u001b[0;36mget_handle\u001b[0;34m(path_or_buf, mode, encoding, compression, memory_map, is_text, errors, storage_options)\u001b[0m\n\u001b[1;32m    854\u001b[0m \u001b[38;5;28;01melif\u001b[39;00m \u001b[38;5;28misinstance\u001b[39m(handle, \u001b[38;5;28mstr\u001b[39m):\n\u001b[1;32m    855\u001b[0m     \u001b[38;5;66;03m# Check whether the filename is to be opened in binary mode.\u001b[39;00m\n\u001b[1;32m    856\u001b[0m     \u001b[38;5;66;03m# Binary mode does not support 'encoding' and 'newline'.\u001b[39;00m\n\u001b[1;32m    857\u001b[0m     \u001b[38;5;28;01mif\u001b[39;00m ioargs\u001b[38;5;241m.\u001b[39mencoding \u001b[38;5;129;01mand\u001b[39;00m \u001b[38;5;124m\"\u001b[39m\u001b[38;5;124mb\u001b[39m\u001b[38;5;124m\"\u001b[39m \u001b[38;5;129;01mnot\u001b[39;00m \u001b[38;5;129;01min\u001b[39;00m ioargs\u001b[38;5;241m.\u001b[39mmode:\n\u001b[1;32m    858\u001b[0m         \u001b[38;5;66;03m# Encoding\u001b[39;00m\n\u001b[0;32m--> 859\u001b[0m         handle \u001b[38;5;241m=\u001b[39m \u001b[38;5;28mopen\u001b[39m(\n\u001b[1;32m    860\u001b[0m             handle,\n\u001b[1;32m    861\u001b[0m             ioargs\u001b[38;5;241m.\u001b[39mmode,\n\u001b[1;32m    862\u001b[0m             encoding\u001b[38;5;241m=\u001b[39mioargs\u001b[38;5;241m.\u001b[39mencoding,\n\u001b[1;32m    863\u001b[0m             errors\u001b[38;5;241m=\u001b[39merrors,\n\u001b[1;32m    864\u001b[0m             newline\u001b[38;5;241m=\u001b[39m\u001b[38;5;124m\"\u001b[39m\u001b[38;5;124m\"\u001b[39m,\n\u001b[1;32m    865\u001b[0m         )\n\u001b[1;32m    866\u001b[0m     \u001b[38;5;28;01melse\u001b[39;00m:\n\u001b[1;32m    867\u001b[0m         \u001b[38;5;66;03m# Binary mode\u001b[39;00m\n\u001b[1;32m    868\u001b[0m         handle \u001b[38;5;241m=\u001b[39m \u001b[38;5;28mopen\u001b[39m(handle, ioargs\u001b[38;5;241m.\u001b[39mmode)\n",
      "\u001b[0;31mFileNotFoundError\u001b[0m: [Errno 2] No such file or directory: 'out_test_first16-rdw0,936_stdT16-ohp-mlpw25-alf/e35_ccpred_b.csv'"
     ]
    }
   ],
   "source": [
    "print(f'    {\"careless run\":50s} {\"dataset\":10s} {\"CCpred,test\":20s} {\"top 5 ligand peak rmsds\"}')\n",
    "print(\"_\"*120)\n",
    "for i,file_in in enumerate(file_list):\n",
    "    #extract peak heights of difference map peaks near the ligand in each model\n",
    "    p0115_stats = pd.read_csv(f\"{file_in}/out_P0115_noweights.csv\")\n",
    "    p0115_heights = p0115_stats[p0115_stats[\"residue\"]==\"LIG\"]\n",
    "    p0115_heights = p0115_heights[\"peakz\"][:5].to_numpy().round(decimals=2)\n",
    "    \n",
    "    p0116_stats = pd.read_csv(f\"{file_in}/out_P0116_noweights.csv\")\n",
    "    p0116_heights = p0116_stats[p0116_stats[\"residue\"]==\"LIG\"]\n",
    "    p0116_heights = p0116_heights[\"peakz\"][:5].to_numpy().round(decimals=2)\n",
    "\n",
    "    #extract the test CCpred of each holo mtz file\n",
    "    bulk_ccpreds = pd.read_csv(f\"{file_in}/e35_ccpred_b.csv\")\n",
    "\n",
    "    ccpred_p0115_condition = (bulk_ccpreds[\"file\"]==\"merged_e35_predictions_2.mtz\"\n",
    "                             )*(bulk_ccpreds[\"test\"]==\"Test\")\n",
    "    bulk_ccpred_p0115 = bulk_ccpreds[ccpred_p0115_condition][\"CCpred\"]\n",
    "    ccpred_p0116_condition = (bulk_ccpreds[\"file\"]==\"merged_e35_predictions_3.mtz\"\n",
    "                             )*(bulk_ccpreds[\"test\"]==\"Test\")\n",
    "    bulk_ccpred_p0116 = float(bulk_ccpreds[ccpred_p0116_condition][\"CCpred\"].iloc[0])\n",
    "    \n",
    "    \n",
    "    print(f'{i:2d}  {file_in:50s} {\"P0115\":10s} {float(bulk_ccpred_p0115.iloc[0]):0.4f}               {list(p0115_heights)}')\n",
    "    print(f'{i:2d}  {file_in:50s} {\"P0116\":10s} {float(bulk_ccpred_p0116):0.4f}               {list(p0116_heights)}')\n",
    "    print(\"-\"*120)"
   ]
  },
  {
   "cell_type": "code",
   "execution_count": null,
   "id": "c881d335-d6b0-4119-bdf3-d06e715eae85",
   "metadata": {},
   "outputs": [],
   "source": [
    "print(f'    {\"careless run\":50s} {\"dataset\":10s} {\"CCpred,test\":20s} {\"top 5 ligand peak rmsds\"}')\n",
    "print(\"_\"*120)\n",
    "for i,file_in in enumerate(file_list):\n",
    "    #extract peak heights of difference map peaks near the ligand in each model\n",
    "    p0115_stats = pd.read_csv(f\"{file_in}/out_P0115-noweights.csv\")\n",
    "    p0115_heights = p0115_stats[p0115_stats[\"residue\"]==\"LIG\"]\n",
    "    p0115_heights = p0115_heights[\"peakz\"][:5].to_numpy().round(decimals=2)\n",
    "    \n",
    "    p0116_stats = pd.read_csv(f\"{file_in}/out_P0116-noweights.csv\")\n",
    "    p0116_heights = p0116_stats[p0116_stats[\"residue\"]==\"LIG\"]\n",
    "    p0116_heights = p0116_heights[\"peakz\"][:5].to_numpy().round(decimals=2)\n",
    "\n",
    "    #extract the test CCpred of each holo mtz file\n",
    "    bulk_ccpreds = pd.read_csv(f\"{file_in}/e35_ccpred_b.csv\")\n",
    "\n",
    "    ccpred_p0115_condition = (bulk_ccpreds[\"file\"]==\"merged_e35_predictions_2.mtz\"\n",
    "                             )*(bulk_ccpreds[\"test\"]==\"Test\")\n",
    "    bulk_ccpred_p0115 = bulk_ccpreds[ccpred_p0115_condition][\"CCpred\"]\n",
    "    ccpred_p0116_condition = (bulk_ccpreds[\"file\"]==\"merged_e35_predictions_3.mtz\"\n",
    "                             )*(bulk_ccpreds[\"test\"]==\"Test\")\n",
    "    bulk_ccpred_p0116 = float(bulk_ccpreds[ccpred_p0116_condition][\"CCpred\"].iloc[0])\n",
    "    \n",
    "    \n",
    "    print(f'{i:2d}  {file_in:50s} {\"P0115\":10s} {float(bulk_ccpred_p0115.iloc[0]):0.4f}               {list(p0115_heights)}')\n",
    "    print(f'{i:2d}  {file_in:50s} {\"P0116\":10s} {float(bulk_ccpred_p0116):0.4f}               {list(p0116_heights)}')\n",
    "    print(\"-\"*120)"
   ]
  },
  {
   "cell_type": "code",
   "execution_count": 10,
   "id": "9ed68f64-8f21-4977-84a8-69525dcdcf38",
   "metadata": {},
   "outputs": [
    {
     "name": "stdout",
     "output_type": "stream",
     "text": [
      "    careless run                                       dataset    CCpred,test          top 5 ligand peak rmsds\n",
      "________________________________________________________________________________________________________________________\n",
      " 0  out_test_first4-all_metadata                       P0115      0.9969               [30.0, -17.31, 14.96, -14.69, -14.19]\n",
      " 0  out_test_first4-all_metadata                       P0116      0.9886               [-13.23, -8.11, 7.89, -7.83, 7.15]\n",
      "------------------------------------------------------------------------------------------------------------------------\n",
      " 1  out_test_first4-alf                                P0115      0.9966               [34.98, -21.04, -17.76, -17.71, 16.29]\n",
      " 1  out_test_first4-alf                                P0116      0.9881               [-15.44, -9.43, 8.89, 8.85, -8.74]\n",
      "------------------------------------------------------------------------------------------------------------------------\n",
      " 2  out_test_first4-rdw0,936_stdT128-moreiters         P0115      0.9966               [35.41, -20.92, -17.83, -17.56, 16.28]\n",
      " 2  out_test_first4-rdw0,936_stdT128-moreiters         P0116      0.9868               [-15.44, -9.95, 8.95, 8.77, -8.7]\n",
      "------------------------------------------------------------------------------------------------------------------------\n",
      " 3  out_test_first4-rdw-none_stdT16                    P0115      0.9903               [32.59, -18.07, -15.29, 15.03, 14.71]\n",
      " 3  out_test_first4-rdw-none_stdT16                    P0116      0.9855               [-14.42, -9.15, 8.41, 7.91, 7.22]\n",
      "------------------------------------------------------------------------------------------------------------------------\n",
      " 4  out_test_first4-rdw0,0_stdT16                      P0115      0.9904               [32.42, -17.83, -15.37, 15.21, -14.67]\n",
      " 4  out_test_first4-rdw0,0_stdT16                      P0116      0.9855               [-14.22, -9.14, 8.33, 8.09, -7.19]\n",
      "------------------------------------------------------------------------------------------------------------------------\n",
      " 5  out_test_first4-rdw0,5_stdT16                      P0115      0.9945               [33.72, -18.8, -16.11, -15.89, 15.37]\n",
      " 5  out_test_first4-rdw0,5_stdT16                      P0116      0.9863               [-14.81, -9.5, 8.48, 8.37, -7.71]\n",
      "------------------------------------------------------------------------------------------------------------------------\n",
      " 6  out_test_first4-rdw0,75_stdT16                     P0115      0.9960               [34.76, -19.81, -17.15, -16.85, 15.6]\n",
      " 6  out_test_first4-rdw0,75_stdT16                     P0116      0.9866               [-15.22, -9.58, 8.69, 8.63, -8.27]\n",
      "------------------------------------------------------------------------------------------------------------------------\n",
      " 7  out_test_first4-rdw0,875_stdT16                    P0115      0.9964               [34.94, -20.48, -17.32, -17.26, 16.03]\n",
      " 7  out_test_first4-rdw0,875_stdT16                    P0116      0.9867               [-15.34, -9.65, 8.76, -8.7, 8.58]\n",
      "------------------------------------------------------------------------------------------------------------------------\n",
      " 8  out_test_first4-rdw0,936_stdT16                    P0115      0.9966               [35.07, -20.57, -17.78, -17.19, 16.01]\n",
      " 8  out_test_first4-rdw0,936_stdT16                    P0116      0.9866               [-15.61, -9.56, 8.8, -8.73, 8.73]\n",
      "------------------------------------------------------------------------------------------------------------------------\n",
      " 9  out_test_first4-rdw0,96875_stdT16                  P0115      0.9966               [34.43, -20.71, -17.46, -17.14, 16.05]\n",
      " 9  out_test_first4-rdw0,96875_stdT16                  P0116      0.9868               [-15.6, -9.83, 8.98, -8.71, 8.58]\n",
      "------------------------------------------------------------------------------------------------------------------------\n",
      "10  out_test_first4-rdw0,984375_stdT16                 P0115      0.9965               [33.6, -19.91, -16.73, -16.62, 16.07]\n",
      "10  out_test_first4-rdw0,984375_stdT16                 P0116      0.9868               [-15.05, -9.21, -8.48, 8.43, 8.02]\n",
      "------------------------------------------------------------------------------------------------------------------------\n",
      "11  out_test_first4-rdw0,936_stdT8                     P0115      0.9964               [35.59, -20.93, -17.63, -17.52, 16.1]\n",
      "11  out_test_first4-rdw0,936_stdT8                     P0116      0.9862               [-15.17, -9.59, -8.69, 8.63, 8.49]\n",
      "------------------------------------------------------------------------------------------------------------------------\n",
      "12  out_test_first4-rdw0,936_stdT32                    P0115      0.9966               [34.91, -20.64, -17.42, -17.37, 16.03]\n",
      "12  out_test_first4-rdw0,936_stdT32                    P0116      0.9872               [-15.61, -9.62, -8.96, 8.77, 8.7]\n",
      "------------------------------------------------------------------------------------------------------------------------\n",
      "13  out_test_first4-rdw0,936_stdT64                    P0115      0.9966               [35.06, -20.84, -17.42, -17.37, 16.34]\n",
      "13  out_test_first4-rdw0,936_stdT64                    P0116      0.9875               [-15.83, -9.46, -8.89, 8.84, 8.62]\n",
      "------------------------------------------------------------------------------------------------------------------------\n",
      "14  out_test_first4-rdw0,936_stdT128                   P0115      0.9967               [34.97, -20.93, -17.42, -17.4, 16.09]\n",
      "14  out_test_first4-rdw0,936_stdT128                   P0116      0.9879               [-15.54, -9.55, 8.95, -8.89, 8.85]\n",
      "------------------------------------------------------------------------------------------------------------------------\n",
      "15  out_test_first4-rdw0,936_stdT256                   P0115      0.9967               [34.67, -20.77, -17.63, -17.35, 16.08]\n",
      "15  out_test_first4-rdw0,936_stdT256                   P0116      0.9881               [-15.61, -9.46, -9.14, 9.08, 9.07]\n",
      "------------------------------------------------------------------------------------------------------------------------\n",
      "16  out_test_first4-rdw0,936_stdT8-stacking            P0115      0.9966               [35.57, -21.19, -18.23, -17.97, 16.28]\n",
      "16  out_test_first4-rdw0,936_stdT8-stacking            P0116      0.9867               [-14.57, -9.17, 8.67, -8.24, 8.2]\n",
      "------------------------------------------------------------------------------------------------------------------------\n",
      "17  out_test_first4-rdw0,936_stdT32-alf                P0115      0.9966               [35.04, -21.04, -17.7, -17.59, 16.23]\n",
      "17  out_test_first4-rdw0,936_stdT32-alf                P0116      0.9874               [-15.09, -9.39, 9.0, 8.67, -8.57]\n",
      "------------------------------------------------------------------------------------------------------------------------\n",
      "18  out_test_first4-rdw0,936_stdT64-alf                P0115      0.9967               [34.68, -20.89, -17.93, -17.46, 16.15]\n",
      "18  out_test_first4-rdw0,936_stdT64-alf                P0116      0.9879               [-15.06, -9.44, 8.87, 8.79, -8.6]\n",
      "------------------------------------------------------------------------------------------------------------------------\n",
      "19  out_test_first4-rdw0,936_stdT128-alf               P0115      0.9966               [34.99, -21.04, -17.76, -17.7, 16.27]\n",
      "19  out_test_first4-rdw0,936_stdT128-alf               P0116      0.9881               [-15.46, -9.45, 8.92, 8.81, -8.73]\n",
      "------------------------------------------------------------------------------------------------------------------------\n",
      "20  out_test_first4-rdw0,936_stdT256-alf               P0115      0.9967               [34.8, -20.79, -17.82, -17.45, 16.33]\n",
      "20  out_test_first4-rdw0,936_stdT256-alf               P0116      0.9881               [-15.3, -9.35, -9.0, 8.89, 8.78]\n",
      "------------------------------------------------------------------------------------------------------------------------\n",
      "21  out_test_first3-rdw0,936_stdT16                    P0115      0.9966               [35.07, -20.91, -18.03, -17.87, 16.13]\n",
      "21  out_test_first3-rdw0,936_stdT16                    P0116      0.9874               [-15.13, -9.07, 8.94, 8.58, -8.38]\n",
      "------------------------------------------------------------------------------------------------------------------------\n",
      "22  out_test_first3-rdw0,936_stdT16-ohp                P0115      0.9967               [35.55, -21.1, -18.11, -17.96, 16.23]\n",
      "22  out_test_first3-rdw0,936_stdT16-ohp                P0116      0.9877               [-15.76, -9.46, -8.95, 8.87, 8.65]\n",
      "------------------------------------------------------------------------------------------------------------------------\n",
      "23  out_test_first4-rdw0,936_stdT16-file_id            P0115      0.9966               [35.24, -20.72, -17.6, -17.58, 16.15]\n",
      "23  out_test_first4-rdw0,936_stdT16-file_id            P0116      0.9873               [-15.58, -9.46, 8.94, 8.85, -8.73]\n",
      "------------------------------------------------------------------------------------------------------------------------\n",
      "24  out_test_first4-rdw0,936_stdT16-ohp                P0115      0.9967               [35.55, -21.3, -18.45, -18.14, 16.24]\n",
      "24  out_test_first4-rdw0,936_stdT16-ohp                P0116      0.9877               [-15.54, -9.82, -8.8, 8.79, 8.48]\n",
      "------------------------------------------------------------------------------------------------------------------------\n",
      "25  out_test_first8-rdw0,936_stdT16-ohp                P0115      0.9966               [35.61, -21.22, -18.26, -18.17, 16.38]\n",
      "25  out_test_first8-rdw0,936_stdT16-ohp                P0116      0.9874               [-14.94, -9.12, 8.93, -8.64, 8.46]\n",
      "------------------------------------------------------------------------------------------------------------------------\n",
      "26  out_test_first16-rdw0,936_stdT16-ohp               P0115      0.9965               [35.47, -20.44, -18.1, -17.69, 16.24]\n",
      "26  out_test_first16-rdw0,936_stdT16-ohp               P0116      0.9869               [-14.03, -8.66, -8.42, 8.22, 7.98]\n",
      "------------------------------------------------------------------------------------------------------------------------\n",
      "27  out_test_first3-rdw0,936_stdT16-ohp-mlpw           P0115      0.9968               [36.3, -21.48, -18.4, -18.4, 16.46]\n",
      "27  out_test_first3-rdw0,936_stdT16-ohp-mlpw           P0116      0.9881               [-16.17, -9.78, 8.83, 8.73, -8.56]\n",
      "------------------------------------------------------------------------------------------------------------------------\n",
      "28  out_test_first4-rdw0,936_stdT16-ohp-mlpw           P0115      0.9968               [36.05, -21.23, -18.37, -18.36, 16.19]\n",
      "28  out_test_first4-rdw0,936_stdT16-ohp-mlpw           P0116      0.9880               [-15.71, -9.67, 9.13, 9.0, -8.5]\n",
      "------------------------------------------------------------------------------------------------------------------------\n",
      "29  out_test_first4-rdw0,936_stdT16-ohp-mlpw-alf       P0115      0.9968               [36.4, -21.46, -18.5, -18.4, 16.33]\n",
      "29  out_test_first4-rdw0,936_stdT16-ohp-mlpw-alf       P0116      0.9880               [-15.7, -9.81, 8.9, 8.65, -8.62]\n",
      "------------------------------------------------------------------------------------------------------------------------\n",
      "30  out_test_first3-rdw0,936_stdT16-ohp-mlpw-alf       P0115      0.9968               [36.58, -21.57, -18.5, -18.44, 16.33]\n",
      "30  out_test_first3-rdw0,936_stdT16-ohp-mlpw-alf       P0116      0.9881               [-16.24, -9.91, 8.79, -8.65, 8.61]\n",
      "------------------------------------------------------------------------------------------------------------------------\n",
      "31  out_test_first8-rdw0,936_stdT16-ohp-mlpw           P0115      0.9968               [35.6, -21.16, -18.23, -17.82, 16.43]\n",
      "31  out_test_first8-rdw0,936_stdT16-ohp-mlpw           P0116      0.9876               [-15.52, -9.87, 9.5, 8.95, -8.43]\n",
      "------------------------------------------------------------------------------------------------------------------------\n",
      "32  out_test_first3-rdw0,936_stdT8-ohp-mlpw-alf        P0115      0.9967               [36.74, -21.69, -18.61, -18.6, 16.27]\n",
      "32  out_test_first3-rdw0,936_stdT8-ohp-mlpw-alf        P0116      0.9877               [-16.12, -9.93, 8.73, 8.7, -8.44]\n",
      "------------------------------------------------------------------------------------------------------------------------\n",
      "33  out_test_first3-rdw0,936_stdT16-ohp-mlpw-alf       P0115      0.9968               [36.58, -21.57, -18.5, -18.44, 16.33]\n",
      "33  out_test_first3-rdw0,936_stdT16-ohp-mlpw-alf       P0116      0.9881               [-16.24, -9.91, 8.79, -8.65, 8.61]\n",
      "------------------------------------------------------------------------------------------------------------------------\n",
      "34  out_test_first3-rdw0,936_stdT32-ohp-mlpw-alf       P0115      0.9968               [36.51, -21.56, -18.53, -18.42, 16.31]\n",
      "34  out_test_first3-rdw0,936_stdT32-ohp-mlpw-alf       P0116      0.9885               [-16.46, -9.79, 8.98, 8.86, 8.78]\n",
      "------------------------------------------------------------------------------------------------------------------------\n",
      "35  out_test_first3-rdw0,936_stdT64-ohp-mlpw-alf       P0115      0.9969               [36.36, -21.51, -18.49, -18.4, 16.28]\n",
      "35  out_test_first3-rdw0,936_stdT64-ohp-mlpw-alf       P0116      0.9888               [-16.38, -10.0, 9.0, -8.84, 8.8]\n",
      "------------------------------------------------------------------------------------------------------------------------\n",
      "36  out_test_first3-rdw0,936_stdT128-ohp-mlpw-alf      P0115      0.9969               [36.08, -21.35, -18.39, -18.38, 16.07]\n",
      "36  out_test_first3-rdw0,936_stdT128-ohp-mlpw-alf      P0116      0.9890               [-16.51, -10.24, 9.03, 8.95, 8.81]\n",
      "------------------------------------------------------------------------------------------------------------------------\n",
      "37  out_test_first3-rdw0,936_stdT256-ohp-mlpw-alf      P0115      0.9969               [36.2, -21.36, -18.44, -18.3, 16.09]\n",
      "37  out_test_first3-rdw0,936_stdT256-ohp-mlpw-alf      P0116      0.9892               [-16.45, -10.08, 9.12, 9.0, -8.9]\n",
      "------------------------------------------------------------------------------------------------------------------------\n",
      "38  out_test_first3-rdwnone_stdT8-ohp-mlpw-alf         P0115      0.9878               [34.14, -18.99, -17.57, -16.35, 15.69]\n",
      "38  out_test_first3-rdwnone_stdT8-ohp-mlpw-alf         P0116      0.9863               [-14.08, -9.11, 7.91, 7.69, 7.32]\n",
      "------------------------------------------------------------------------------------------------------------------------\n",
      "39  out_test_first3-rdw0,5_stdT8-ohp-mlpw-alf          P0115      0.9926               [35.26, -20.14, -18.42, -17.7, 15.59]\n",
      "39  out_test_first3-rdw0,5_stdT8-ohp-mlpw-alf          P0116      0.9871               [-15.25, -9.74, 8.28, 8.07, 7.94]\n",
      "------------------------------------------------------------------------------------------------------------------------\n",
      "40  out_test_first3-rdw0,75_stdT8-ohp-mlpw-alf         P0115      0.9954               [36.38, -20.92, -18.67, -18.36, 15.77]\n",
      "40  out_test_first3-rdw0,75_stdT8-ohp-mlpw-alf         P0116      0.9875               [-15.68, -9.93, 8.39, 8.38, 8.13]\n",
      "------------------------------------------------------------------------------------------------------------------------\n",
      "41  out_test_first3-rdw0,875_stdT8-ohp-mlpw-alf        P0115      0.9964               [36.58, -21.31, -18.59, -18.56, 16.03]\n",
      "41  out_test_first3-rdw0,875_stdT8-ohp-mlpw-alf        P0116      0.9877               [-15.64, -9.89, 8.67, 8.55, -8.26]\n",
      "------------------------------------------------------------------------------------------------------------------------\n",
      "42  out_test_first3-rdw0,96875_stdT8-ohp-mlpw-alf      P0115      0.9968               [36.16, -21.54, -18.57, -18.47, 16.31]\n",
      "42  out_test_first3-rdw0,96875_stdT8-ohp-mlpw-alf      P0116      0.9878               [-15.97, -9.97, 8.7, -8.69, 8.58]\n",
      "------------------------------------------------------------------------------------------------------------------------\n",
      "43  out_test_first3-rdw0,984375_stdT8-ohp-mlpw-alf     P0115      0.9969               [35.29, -21.22, -18.21, -18.13, 16.44]\n",
      "43  out_test_first3-rdw0,984375_stdT8-ohp-mlpw-alf     P0116      0.9879               [-15.81, -9.66, -8.95, 8.68, 8.63]\n",
      "------------------------------------------------------------------------------------------------------------------------\n",
      "44  out_test_first3-rdw0,936_stdT16-ohp-mlpw15         P0115      0.9967               [35.2, -21.0, -18.22, -17.95, 16.28]\n",
      "44  out_test_first3-rdw0,936_stdT16-ohp-mlpw15         P0116      0.9879               [-15.94, -9.83, 8.74, 8.62, -8.6]\n",
      "------------------------------------------------------------------------------------------------------------------------\n",
      "45  out_test_first4-rdw0,936_stdT16-ohp-mlpw15         P0115      0.9967               [35.51, -21.16, -18.26, -18.1, 16.27]\n",
      "45  out_test_first4-rdw0,936_stdT16-ohp-mlpw15         P0116      0.9879               [-15.92, -9.55, 8.89, -8.77, 8.75]\n",
      "------------------------------------------------------------------------------------------------------------------------\n",
      "46  out_test_first8-rdw0,936_stdT16-ohp-mlpw           P0115      0.9968               [35.6, -21.16, -18.23, -17.82, 16.43]\n",
      "46  out_test_first8-rdw0,936_stdT16-ohp-mlpw           P0116      0.9876               [-15.52, -9.87, 9.5, 8.95, -8.43]\n",
      "------------------------------------------------------------------------------------------------------------------------\n"
     ]
    }
   ],
   "source": [
    "print(f'    {\"careless run\":50s} {\"dataset\":10s} {\"CCpred,test\":20s} {\"top 5 ligand peak rmsds\"}')\n",
    "print(\"_\"*120)\n",
    "for i,file_in in enumerate([\"out_test_first4-all_metadata\",\n",
    "                            \"out_test_first4-alf\",\n",
    "                            \"out_test_first4-rdw0,936_stdT128-moreiters\",\n",
    "                            \"out_test_first4-rdw-none_stdT16\",\n",
    "                            \"out_test_first4-rdw0,0_stdT16\",\n",
    "                            \"out_test_first4-rdw0,5_stdT16\",\n",
    "                            \"out_test_first4-rdw0,75_stdT16\",\n",
    "                            \"out_test_first4-rdw0,875_stdT16\",\n",
    "                            \"out_test_first4-rdw0,936_stdT16\",\n",
    "                            \"out_test_first4-rdw0,96875_stdT16\",\n",
    "                            \"out_test_first4-rdw0,984375_stdT16\",\n",
    "                            \"out_test_first4-rdw0,936_stdT8\",\n",
    "                            \"out_test_first4-rdw0,936_stdT32\",\n",
    "                            \"out_test_first4-rdw0,936_stdT64\",\n",
    "                            \"out_test_first4-rdw0,936_stdT128\",\n",
    "                            \"out_test_first4-rdw0,936_stdT256\",\n",
    "                            \"out_test_first4-rdw0,936_stdT8-stacking\",\n",
    "                            \"out_test_first4-rdw0,936_stdT32-alf\",\n",
    "                            \"out_test_first4-rdw0,936_stdT64-alf\",\n",
    "                            \"out_test_first4-rdw0,936_stdT128-alf\",\n",
    "                            \"out_test_first4-rdw0,936_stdT256-alf\",\n",
    "                            \"out_test_first3-rdw0,936_stdT16\",\n",
    "                            \"out_test_first3-rdw0,936_stdT16-ohp\",\n",
    "                            \"out_test_first4-rdw0,936_stdT16-file_id\",\n",
    "                            \"out_test_first4-rdw0,936_stdT16-ohp\",\n",
    "                            \"out_test_first8-rdw0,936_stdT16-ohp\", \n",
    "                            \"out_test_first16-rdw0,936_stdT16-ohp\",\n",
    "                            \"out_test_first3-rdw0,936_stdT16-ohp-mlpw\",\n",
    "                            \"out_test_first4-rdw0,936_stdT16-ohp-mlpw\",\n",
    "                            \"out_test_first4-rdw0,936_stdT16-ohp-mlpw-alf\",\n",
    "                            \"out_test_first3-rdw0,936_stdT16-ohp-mlpw-alf\",\n",
    "                            \"out_test_first8-rdw0,936_stdT16-ohp-mlpw\",\n",
    "                            \"out_test_first3-rdw0,936_stdT8-ohp-mlpw-alf\",\n",
    "                            \"out_test_first3-rdw0,936_stdT16-ohp-mlpw-alf\", \n",
    "                            \"out_test_first3-rdw0,936_stdT32-ohp-mlpw-alf\",\n",
    "                            \"out_test_first3-rdw0,936_stdT64-ohp-mlpw-alf\",\n",
    "                            \"out_test_first3-rdw0,936_stdT128-ohp-mlpw-alf\",\n",
    "                            \"out_test_first3-rdw0,936_stdT256-ohp-mlpw-alf\",\n",
    "                            \"out_test_first3-rdwnone_stdT8-ohp-mlpw-alf\",\n",
    "                            \"out_test_first3-rdw0,5_stdT8-ohp-mlpw-alf\",\n",
    "                            \"out_test_first3-rdw0,75_stdT8-ohp-mlpw-alf\",\n",
    "                            \"out_test_first3-rdw0,875_stdT8-ohp-mlpw-alf\",\n",
    "                            \"out_test_first3-rdw0,96875_stdT8-ohp-mlpw-alf\",\n",
    "                            \"out_test_first3-rdw0,984375_stdT8-ohp-mlpw-alf\",\n",
    "                            \"out_test_first3-rdw0,936_stdT16-ohp-mlpw15\",\n",
    "                            \"out_test_first4-rdw0,936_stdT16-ohp-mlpw15\",\n",
    "                            \"out_test_first8-rdw0,936_stdT16-ohp-mlpw\",\n",
    "                            \n",
    "                           ]):\n",
    "    \n",
    "    #extract peak heights of difference map peaks near the ligand in each model\n",
    "    p0115_stats = pd.read_csv(f\"{file_in}/out_P0115.csv\")\n",
    "    p0115_heights = p0115_stats[p0115_stats[\"residue\"]==\"LIG\"]\n",
    "    p0115_heights = p0115_heights[\"peakz\"][:5].to_numpy().round(decimals=2)\n",
    "    \n",
    "    p0116_stats = pd.read_csv(f\"{file_in}/out_P0116.csv\")\n",
    "    p0116_heights = p0116_stats[p0116_stats[\"residue\"]==\"LIG\"]\n",
    "    p0116_heights = p0116_heights[\"peakz\"][:5].to_numpy().round(decimals=2)\n",
    "\n",
    "    #extract the test CCpred of each holo mtz file\n",
    "    bulk_ccpreds = pd.read_csv(f\"{file_in}/e35_ccpred_b.csv\")\n",
    "\n",
    "    ccpred_p0115_condition = (bulk_ccpreds[\"file\"]==\"merged_e35_predictions_2.mtz\"\n",
    "                             )*(bulk_ccpreds[\"test\"]==\"Test\")\n",
    "    bulk_ccpred_p0115 = bulk_ccpreds[ccpred_p0115_condition][\"CCpred\"]\n",
    "    ccpred_p0116_condition = (bulk_ccpreds[\"file\"]==\"merged_e35_predictions_3.mtz\"\n",
    "                             )*(bulk_ccpreds[\"test\"]==\"Test\")\n",
    "    bulk_ccpred_p0116 = float(bulk_ccpreds[ccpred_p0116_condition][\"CCpred\"].iloc[0])\n",
    "    \n",
    "    \n",
    "    print(f'{i:2d}  {file_in:50s} {\"P0115\":10s} {float(bulk_ccpred_p0115.iloc[0]):0.4f}               {list(p0115_heights)}')\n",
    "    print(f'{i:2d}  {file_in:50s} {\"P0116\":10s} {float(bulk_ccpred_p0116):0.4f}               {list(p0116_heights)}')\n",
    "    print(\"-\"*120)\n"
   ]
  },
  {
   "cell_type": "markdown",
   "id": "711cf2f4-420a-415a-a6de-4fc53b8a69b1",
   "metadata": {
    "tags": []
   },
   "source": [
    "## STD-T scans"
   ]
  },
  {
   "cell_type": "code",
   "execution_count": null,
   "id": "807c1f9d-bc4e-460b-97bd-fd53e0066850",
   "metadata": {},
   "outputs": [],
   "source": [
    "print(f'   {\"careless run\":50s} {\"dataset\":10s} {\"CCpred,test\":20s} {\"top 5 ligand peak rmsds\"}')\n",
    "print(\"_\"*120)\n",
    "\n",
    "for j,holo in enumerate([\"P0115\",\"P0116\",\"P0123\",\"P0124\"]):\n",
    "    for i,file_in in enumerate([\n",
    "                                \"out_test_first4-rdw0,936_stdT8\",\n",
    "                                \"out_test_first4-rdw0,936_stdT16\",\n",
    "                                \"out_test_first4-rdw0,936_stdT32\",\n",
    "                                \"out_test_first4-rdw0,936_stdT64\",\n",
    "                                \"out_test_first4-rdw0,936_stdT128\",\n",
    "                                \"out_test_first4-rdw0,936_stdT256\",\n",
    "                                \"out_test_first4-rdw0,936_stdT32-alf\",\n",
    "                                \"out_test_first4-rdw0,936_stdT64-alf\",\n",
    "                                \"out_test_first4-rdw0,936_stdT128-alf\",\n",
    "                                \"out_test_first4-rdw0,936_stdT256-alf\",\n",
    "                                \"out_test_first3-rdw0,936_stdT8-ohp-mlpw-alf\",\n",
    "                                \"out_test_first3-rdw0,936_stdT16-ohp-mlpw-alf\", \n",
    "                                \"out_test_first3-rdw0,936_stdT32-ohp-mlpw-alf\",\n",
    "                                \"out_test_first3-rdw0,936_stdT64-ohp-mlpw-alf\",\n",
    "                                \"out_test_first3-rdw0,936_stdT128-ohp-mlpw-alf\",\n",
    "                                \"out_test_first3-rdw0,936_stdT256-ohp-mlpw-alf\",\n",
    "                               ]):\n",
    "    \n",
    "\n",
    "        stats = pd.read_csv(f\"{file_in}/out_{holo}.csv\")\n",
    "        heights = stats[stats[\"residue\"]==\"LIG\"]\n",
    "        heights = heights[\"peakz\"][:5].to_numpy().round(decimals=2)\n",
    "        heights_sum = np.sum(np.abs(heights))\n",
    "        \n",
    "        bulk_ccpreds = pd.read_csv(f\"{file_in}/e35_ccpred_b.csv\")\n",
    "        ccpred_condition = (bulk_ccpreds[\"file\"]==f\"merged_e35_predictions_{j+2}.mtz\"\n",
    "                                 )*(bulk_ccpreds[\"test\"]==\"Test\")\n",
    "        bulk_ccpred = bulk_ccpreds[ccpred_condition][\"CCpred\"]\n",
    "        \n",
    "        print(f'{i:2d}  {file_in:50s} {holo:10s} {float(bulk_ccpred.iloc[0]):0.4f}        {list(heights)}  {heights_sum:3.2f}')\n",
    "    print(\"-\"*120)"
   ]
  },
  {
   "cell_type": "markdown",
   "id": "9b45ff3a-5b9a-4e39-861a-3c406402cdc9",
   "metadata": {},
   "source": [
    "## iterations, keys, and misc"
   ]
  },
  {
   "cell_type": "code",
   "execution_count": 11,
   "id": "9352296a-139f-4236-9e16-eedf7e306124",
   "metadata": {},
   "outputs": [
    {
     "name": "stdout",
     "output_type": "stream",
     "text": [
      "   careless run                                       dataset    CCpred,test          top 5 ligand peak rmsds\n",
      "________________________________________________________________________________________________________________________\n",
      " 0  out_test_first4-all_metadata                       P0115      0.9969        [30.0, -17.31, 14.96, -14.69, -14.19]  91.15\n",
      " 1  out_test_first4-alf                                P0115      0.9966        [34.98, -21.04, -17.76, -17.71, 16.29]  107.78\n",
      " 2  out_test_first4-rdw0,936_stdT128-moreiters         P0115      0.9966        [35.41, -20.92, -17.83, -17.56, 16.28]  108.00\n",
      " 3  out_test_first4-rdw0,936_stdT16                    P0115      0.9966        [35.07, -20.57, -17.78, -17.19, 16.01]  106.62\n",
      " 4  out_test_first4-rdw0,936_stdT8-stacking            P0115      0.9966        [35.57, -21.19, -18.23, -17.97, 16.28]  109.24\n",
      " 5  out_test_first4-rdw0,936_stdT16-file_id            P0115      0.9966        [35.24, -20.72, -17.6, -17.58, 16.15]  107.29\n",
      " 6  out_test_first4-rdw0,936_stdT16-ohp                P0115      0.9967        [35.55, -21.3, -18.45, -18.14, 16.24]  109.68\n",
      " 7  out_test_first8-rdw0,936_stdT16-ohp                P0115      0.9966        [35.61, -21.22, -18.26, -18.17, 16.38]  109.64\n",
      " 8  out_test_first16-rdw0,936_stdT16-ohp               P0115      0.9965        [35.47, -20.44, -18.1, -17.69, 16.24]  107.94\n",
      " 9  out_test_first4-rdw0,936_stdT16-ohp-mlpw           P0115      0.9968        [36.05, -21.23, -18.37, -18.36, 16.19]  110.20\n",
      "10  out_test_first4-rdw0,936_stdT16-ohp-mlpw-alf       P0115      0.9968        [36.4, -21.46, -18.5, -18.4, 16.33]  111.09\n",
      "11  out_test_first3-rdw0,936_stdT16                    P0115      0.9966        [35.07, -20.91, -18.03, -17.87, 16.13]  108.01\n",
      "12  out_test_first3-rdw0,936_stdT16-ohp                P0115      0.9967        [35.55, -21.1, -18.11, -17.96, 16.23]  108.95\n",
      "13  out_test_first3-rdw0,936_stdT16-ohp-mlpw           P0115      0.9968        [36.3, -21.48, -18.4, -18.4, 16.46]  111.04\n",
      "14  out_test_first3-rdw0,936_stdT16-ohp-mlpw-alf       P0115      0.9968        [36.58, -21.57, -18.5, -18.44, 16.33]  111.42\n",
      "15  out_test_first8-rdw0,936_stdT16-ohp-mlpw           P0115      0.9968        [35.6, -21.16, -18.23, -17.82, 16.43]  109.24\n",
      "16  out_test_first4-rdw0,936_stdT16-ohp-mlpw15         P0115      0.9967        [35.51, -21.16, -18.26, -18.1, 16.27]  109.30\n",
      "17  out_test_first3-rdw0,936_stdT16-ohp-mlpw15         P0115      0.9967        [35.2, -21.0, -18.22, -17.95, 16.28]  108.65\n",
      "------------------------------------------------------------------------------------------------------------------------\n",
      " 0  out_test_first4-all_metadata                       P0116      0.9886        [-13.23, -8.11, 7.89, -7.83, 7.15]  44.21\n",
      " 1  out_test_first4-alf                                P0116      0.9881        [-15.44, -9.43, 8.89, 8.85, -8.74]  51.35\n",
      " 2  out_test_first4-rdw0,936_stdT128-moreiters         P0116      0.9868        [-15.44, -9.95, 8.95, 8.77, -8.7]  51.81\n",
      " 3  out_test_first4-rdw0,936_stdT16                    P0116      0.9866        [-15.61, -9.56, 8.8, -8.73, 8.73]  51.43\n",
      " 4  out_test_first4-rdw0,936_stdT8-stacking            P0116      0.9867        [-14.57, -9.17, 8.67, -8.24, 8.2]  48.85\n",
      " 5  out_test_first4-rdw0,936_stdT16-file_id            P0116      0.9873        [-15.58, -9.46, 8.94, 8.85, -8.73]  51.56\n",
      " 6  out_test_first4-rdw0,936_stdT16-ohp                P0116      0.9877        [-15.54, -9.82, -8.8, 8.79, 8.48]  51.43\n",
      " 7  out_test_first8-rdw0,936_stdT16-ohp                P0116      0.9874        [-14.94, -9.12, 8.93, -8.64, 8.46]  50.09\n",
      " 8  out_test_first16-rdw0,936_stdT16-ohp               P0116      0.9869        [-14.03, -8.66, -8.42, 8.22, 7.98]  47.31\n",
      " 9  out_test_first4-rdw0,936_stdT16-ohp-mlpw           P0116      0.9880        [-15.71, -9.67, 9.13, 9.0, -8.5]  52.01\n",
      "10  out_test_first4-rdw0,936_stdT16-ohp-mlpw-alf       P0116      0.9880        [-15.7, -9.81, 8.9, 8.65, -8.62]  51.68\n",
      "11  out_test_first3-rdw0,936_stdT16                    P0116      0.9874        [-15.13, -9.07, 8.94, 8.58, -8.38]  50.10\n",
      "12  out_test_first3-rdw0,936_stdT16-ohp                P0116      0.9877        [-15.76, -9.46, -8.95, 8.87, 8.65]  51.69\n",
      "13  out_test_first3-rdw0,936_stdT16-ohp-mlpw           P0116      0.9881        [-16.17, -9.78, 8.83, 8.73, -8.56]  52.07\n",
      "14  out_test_first3-rdw0,936_stdT16-ohp-mlpw-alf       P0116      0.9881        [-16.24, -9.91, 8.79, -8.65, 8.61]  52.20\n",
      "15  out_test_first8-rdw0,936_stdT16-ohp-mlpw           P0116      0.9876        [-15.52, -9.87, 9.5, 8.95, -8.43]  52.27\n",
      "16  out_test_first4-rdw0,936_stdT16-ohp-mlpw15         P0116      0.9879        [-15.92, -9.55, 8.89, -8.77, 8.75]  51.88\n",
      "17  out_test_first3-rdw0,936_stdT16-ohp-mlpw15         P0116      0.9879        [-15.94, -9.83, 8.74, 8.62, -8.6]  51.73\n",
      "------------------------------------------------------------------------------------------------------------------------\n",
      " 0  out_test_first4-all_metadata                       P0123      0.9976        [-8.28, 7.11, 6.88, 6.45, 6.4]  35.12\n",
      " 1  out_test_first4-alf                                P0123      0.9972        [-7.93, 7.54, 7.18, 6.93, 6.82]  36.40\n",
      " 2  out_test_first4-rdw0,936_stdT128-moreiters         P0123      0.9972        [-8.22, 7.56, 7.03, 6.97, 6.93]  36.71\n",
      " 3  out_test_first4-rdw0,936_stdT16                    P0123      0.9972        [-8.11, 7.49, 7.09, 6.89, 6.86]  36.44\n",
      " 4  out_test_first4-rdw0,936_stdT8-stacking            P0123      0.9973        [-8.14, 7.43, 7.25, 6.93, 6.9]  36.65\n",
      " 5  out_test_first4-rdw0,936_stdT16-file_id            P0123      0.9972        [-8.13, 7.61, 7.05, 6.97, 6.85]  36.61\n",
      " 6  out_test_first4-rdw0,936_stdT16-ohp                P0123      0.9973        [-8.29, 7.64, 7.06, 6.98, 6.84]  36.81\n",
      " 7  out_test_first8-rdw0,936_stdT16-ohp                P0123      0.9973        [-8.11, 7.49, 6.99, 6.97, 6.89]  36.45\n",
      " 8  out_test_first16-rdw0,936_stdT16-ohp               P0123      0.9972        [-8.04, 7.55, 7.18, 6.98, 6.89]  36.64\n",
      " 9  out_test_first4-rdw0,936_stdT16-ohp-mlpw           P0123      0.9974        [-8.09, 7.33, 7.28, 6.99, 6.92]  36.61\n",
      "10  out_test_first4-rdw0,936_stdT16-ohp-mlpw-alf       P0123      0.9974        [-8.15, 7.28, 7.26, 6.9, 6.9]  36.49\n",
      "11  out_test_first3-rdw0,936_stdT16                    P0123      0.9972        [-8.01, 7.58, 7.1, 6.98, 6.97]  36.64\n",
      "12  out_test_first3-rdw0,936_stdT16-ohp                P0123      0.9973        [-8.08, 7.67, 7.21, 7.13, 6.99]  37.08\n",
      "13  out_test_first3-rdw0,936_stdT16-ohp-mlpw           P0123      0.9975        [-8.1, 7.47, 7.25, 7.0, 6.9]  36.72\n",
      "14  out_test_first3-rdw0,936_stdT16-ohp-mlpw-alf       P0123      0.9975        [-8.07, 7.45, 7.27, 6.97, 6.79]  36.55\n",
      "15  out_test_first8-rdw0,936_stdT16-ohp-mlpw           P0123      0.9974        [-8.16, 7.41, 7.3, 7.14, 6.86]  36.87\n",
      "16  out_test_first4-rdw0,936_stdT16-ohp-mlpw15         P0123      0.9974        [-7.97, 7.54, 7.19, 6.91, 6.91]  36.52\n",
      "17  out_test_first3-rdw0,936_stdT16-ohp-mlpw15         P0123      0.9974        [-8.03, 7.42, 7.03, 6.74, 6.73]  35.95\n",
      "------------------------------------------------------------------------------------------------------------------------\n",
      " 0  out_test_first4-all_metadata                       P0124      0.9978        [-16.94, 14.62, 12.23, -9.62, 9.55]  62.96\n",
      " 1  out_test_first4-alf                                P0124      0.9976        [-19.31, 15.68, 14.15, 11.81, -10.44]  71.39\n",
      " 2  out_test_first4-rdw0,936_stdT128-moreiters         P0124      0.9975        [-19.41, 15.81, 14.14, 11.62, -10.44]  71.42\n",
      " 3  out_test_first4-rdw0,936_stdT16                    P0124      0.9975        [-19.36, 15.81, 14.08, 11.88, -10.65]  71.78\n",
      " 4  out_test_first4-rdw0,936_stdT8-stacking            P0124      0.9976        [-18.96, 15.73, 14.05, 11.71, -10.3]  70.75\n",
      " 5  out_test_first4-rdw0,936_stdT16-file_id            P0124      0.9975        [-18.46, 15.46, 13.57, 11.76, -10.09]  69.34\n",
      " 6  out_test_first4-rdw0,936_stdT16-ohp                P0124      0.9976        [-19.37, 15.76, 14.08, 11.71, -10.52]  71.44\n",
      " 7  out_test_first8-rdw0,936_stdT16-ohp                P0124      0.9975        [-18.78, 16.06, 14.31, 11.28, -10.28]  70.71\n",
      " 8  out_test_first16-rdw0,936_stdT16-ohp               P0124      0.9974        [-18.1, 15.73, 14.15, 10.93, -10.43]  69.34\n",
      " 9  out_test_first4-rdw0,936_stdT16-ohp-mlpw           P0124      0.9977        [-19.31, 15.73, 13.99, 11.56, -10.12]  70.71\n",
      "10  out_test_first4-rdw0,936_stdT16-ohp-mlpw-alf       P0124      0.9977        [-19.03, 15.69, 13.8, 11.58, -9.85]  69.95\n"
     ]
    },
    {
     "ename": "FileNotFoundError",
     "evalue": "[Errno 2] No such file or directory: 'out_test_first3-rdw0,936_stdT16/out_P0124.csv'",
     "output_type": "error",
     "traceback": [
      "\u001b[0;31m---------------------------------------------------------------------------\u001b[0m",
      "\u001b[0;31mFileNotFoundError\u001b[0m                         Traceback (most recent call last)",
      "Cell \u001b[0;32mIn[11], line 26\u001b[0m\n\u001b[1;32m      4\u001b[0m \u001b[38;5;28;01mfor\u001b[39;00m j,holo \u001b[38;5;129;01min\u001b[39;00m \u001b[38;5;28menumerate\u001b[39m([\u001b[38;5;124m\"\u001b[39m\u001b[38;5;124mP0115\u001b[39m\u001b[38;5;124m\"\u001b[39m,\u001b[38;5;124m\"\u001b[39m\u001b[38;5;124mP0116\u001b[39m\u001b[38;5;124m\"\u001b[39m,\u001b[38;5;124m\"\u001b[39m\u001b[38;5;124mP0123\u001b[39m\u001b[38;5;124m\"\u001b[39m,\u001b[38;5;124m\"\u001b[39m\u001b[38;5;124mP0124\u001b[39m\u001b[38;5;124m\"\u001b[39m]):\n\u001b[1;32m      5\u001b[0m     \u001b[38;5;28;01mfor\u001b[39;00m i,file_in \u001b[38;5;129;01min\u001b[39;00m \u001b[38;5;28menumerate\u001b[39m([\u001b[38;5;124m\"\u001b[39m\u001b[38;5;124mout_test_first4-all_metadata\u001b[39m\u001b[38;5;124m\"\u001b[39m,\n\u001b[1;32m      6\u001b[0m                             \u001b[38;5;124m\"\u001b[39m\u001b[38;5;124mout_test_first4-alf\u001b[39m\u001b[38;5;124m\"\u001b[39m,\n\u001b[1;32m      7\u001b[0m                             \u001b[38;5;124m\"\u001b[39m\u001b[38;5;124mout_test_first4-rdw0,936_stdT128-moreiters\u001b[39m\u001b[38;5;124m\"\u001b[39m,\n\u001b[0;32m   (...)\u001b[0m\n\u001b[1;32m     22\u001b[0m                                 \u001b[38;5;124m\"\u001b[39m\u001b[38;5;124mout_test_first3-rdw0,936_stdT16-ohp-mlpw15\u001b[39m\u001b[38;5;124m\"\u001b[39m,\n\u001b[1;32m     23\u001b[0m                            ]):\n\u001b[0;32m---> 26\u001b[0m         stats \u001b[38;5;241m=\u001b[39m \u001b[43mpd\u001b[49m\u001b[38;5;241;43m.\u001b[39;49m\u001b[43mread_csv\u001b[49m\u001b[43m(\u001b[49m\u001b[38;5;124;43mf\u001b[39;49m\u001b[38;5;124;43m\"\u001b[39;49m\u001b[38;5;132;43;01m{\u001b[39;49;00m\u001b[43mfile_in\u001b[49m\u001b[38;5;132;43;01m}\u001b[39;49;00m\u001b[38;5;124;43m/out_\u001b[39;49m\u001b[38;5;132;43;01m{\u001b[39;49;00m\u001b[43mholo\u001b[49m\u001b[38;5;132;43;01m}\u001b[39;49;00m\u001b[38;5;124;43m.csv\u001b[39;49m\u001b[38;5;124;43m\"\u001b[39;49m\u001b[43m)\u001b[49m\n\u001b[1;32m     27\u001b[0m         heights \u001b[38;5;241m=\u001b[39m stats[stats[\u001b[38;5;124m\"\u001b[39m\u001b[38;5;124mresidue\u001b[39m\u001b[38;5;124m\"\u001b[39m]\u001b[38;5;241m==\u001b[39m\u001b[38;5;124m\"\u001b[39m\u001b[38;5;124mLIG\u001b[39m\u001b[38;5;124m\"\u001b[39m]\n\u001b[1;32m     28\u001b[0m         heights \u001b[38;5;241m=\u001b[39m heights[\u001b[38;5;124m\"\u001b[39m\u001b[38;5;124mpeakz\u001b[39m\u001b[38;5;124m\"\u001b[39m][:\u001b[38;5;241m5\u001b[39m]\u001b[38;5;241m.\u001b[39mto_numpy()\u001b[38;5;241m.\u001b[39mround(decimals\u001b[38;5;241m=\u001b[39m\u001b[38;5;241m2\u001b[39m)\n",
      "File \u001b[0;32m/net/holy-nfsisilon/ifs/rc_labs/hekstra_lab/people/hwang/anaconda/envs/laue/lib/python3.10/site-packages/pandas/io/parsers/readers.py:912\u001b[0m, in \u001b[0;36mread_csv\u001b[0;34m(filepath_or_buffer, sep, delimiter, header, names, index_col, usecols, dtype, engine, converters, true_values, false_values, skipinitialspace, skiprows, skipfooter, nrows, na_values, keep_default_na, na_filter, verbose, skip_blank_lines, parse_dates, infer_datetime_format, keep_date_col, date_parser, date_format, dayfirst, cache_dates, iterator, chunksize, compression, thousands, decimal, lineterminator, quotechar, quoting, doublequote, escapechar, comment, encoding, encoding_errors, dialect, on_bad_lines, delim_whitespace, low_memory, memory_map, float_precision, storage_options, dtype_backend)\u001b[0m\n\u001b[1;32m    899\u001b[0m kwds_defaults \u001b[38;5;241m=\u001b[39m _refine_defaults_read(\n\u001b[1;32m    900\u001b[0m     dialect,\n\u001b[1;32m    901\u001b[0m     delimiter,\n\u001b[0;32m   (...)\u001b[0m\n\u001b[1;32m    908\u001b[0m     dtype_backend\u001b[38;5;241m=\u001b[39mdtype_backend,\n\u001b[1;32m    909\u001b[0m )\n\u001b[1;32m    910\u001b[0m kwds\u001b[38;5;241m.\u001b[39mupdate(kwds_defaults)\n\u001b[0;32m--> 912\u001b[0m \u001b[38;5;28;01mreturn\u001b[39;00m \u001b[43m_read\u001b[49m\u001b[43m(\u001b[49m\u001b[43mfilepath_or_buffer\u001b[49m\u001b[43m,\u001b[49m\u001b[43m \u001b[49m\u001b[43mkwds\u001b[49m\u001b[43m)\u001b[49m\n",
      "File \u001b[0;32m/net/holy-nfsisilon/ifs/rc_labs/hekstra_lab/people/hwang/anaconda/envs/laue/lib/python3.10/site-packages/pandas/io/parsers/readers.py:577\u001b[0m, in \u001b[0;36m_read\u001b[0;34m(filepath_or_buffer, kwds)\u001b[0m\n\u001b[1;32m    574\u001b[0m _validate_names(kwds\u001b[38;5;241m.\u001b[39mget(\u001b[38;5;124m\"\u001b[39m\u001b[38;5;124mnames\u001b[39m\u001b[38;5;124m\"\u001b[39m, \u001b[38;5;28;01mNone\u001b[39;00m))\n\u001b[1;32m    576\u001b[0m \u001b[38;5;66;03m# Create the parser.\u001b[39;00m\n\u001b[0;32m--> 577\u001b[0m parser \u001b[38;5;241m=\u001b[39m \u001b[43mTextFileReader\u001b[49m\u001b[43m(\u001b[49m\u001b[43mfilepath_or_buffer\u001b[49m\u001b[43m,\u001b[49m\u001b[43m \u001b[49m\u001b[38;5;241;43m*\u001b[39;49m\u001b[38;5;241;43m*\u001b[39;49m\u001b[43mkwds\u001b[49m\u001b[43m)\u001b[49m\n\u001b[1;32m    579\u001b[0m \u001b[38;5;28;01mif\u001b[39;00m chunksize \u001b[38;5;129;01mor\u001b[39;00m iterator:\n\u001b[1;32m    580\u001b[0m     \u001b[38;5;28;01mreturn\u001b[39;00m parser\n",
      "File \u001b[0;32m/net/holy-nfsisilon/ifs/rc_labs/hekstra_lab/people/hwang/anaconda/envs/laue/lib/python3.10/site-packages/pandas/io/parsers/readers.py:1407\u001b[0m, in \u001b[0;36mTextFileReader.__init__\u001b[0;34m(self, f, engine, **kwds)\u001b[0m\n\u001b[1;32m   1404\u001b[0m     \u001b[38;5;28mself\u001b[39m\u001b[38;5;241m.\u001b[39moptions[\u001b[38;5;124m\"\u001b[39m\u001b[38;5;124mhas_index_names\u001b[39m\u001b[38;5;124m\"\u001b[39m] \u001b[38;5;241m=\u001b[39m kwds[\u001b[38;5;124m\"\u001b[39m\u001b[38;5;124mhas_index_names\u001b[39m\u001b[38;5;124m\"\u001b[39m]\n\u001b[1;32m   1406\u001b[0m \u001b[38;5;28mself\u001b[39m\u001b[38;5;241m.\u001b[39mhandles: IOHandles \u001b[38;5;241m|\u001b[39m \u001b[38;5;28;01mNone\u001b[39;00m \u001b[38;5;241m=\u001b[39m \u001b[38;5;28;01mNone\u001b[39;00m\n\u001b[0;32m-> 1407\u001b[0m \u001b[38;5;28mself\u001b[39m\u001b[38;5;241m.\u001b[39m_engine \u001b[38;5;241m=\u001b[39m \u001b[38;5;28;43mself\u001b[39;49m\u001b[38;5;241;43m.\u001b[39;49m\u001b[43m_make_engine\u001b[49m\u001b[43m(\u001b[49m\u001b[43mf\u001b[49m\u001b[43m,\u001b[49m\u001b[43m \u001b[49m\u001b[38;5;28;43mself\u001b[39;49m\u001b[38;5;241;43m.\u001b[39;49m\u001b[43mengine\u001b[49m\u001b[43m)\u001b[49m\n",
      "File \u001b[0;32m/net/holy-nfsisilon/ifs/rc_labs/hekstra_lab/people/hwang/anaconda/envs/laue/lib/python3.10/site-packages/pandas/io/parsers/readers.py:1661\u001b[0m, in \u001b[0;36mTextFileReader._make_engine\u001b[0;34m(self, f, engine)\u001b[0m\n\u001b[1;32m   1659\u001b[0m     \u001b[38;5;28;01mif\u001b[39;00m \u001b[38;5;124m\"\u001b[39m\u001b[38;5;124mb\u001b[39m\u001b[38;5;124m\"\u001b[39m \u001b[38;5;129;01mnot\u001b[39;00m \u001b[38;5;129;01min\u001b[39;00m mode:\n\u001b[1;32m   1660\u001b[0m         mode \u001b[38;5;241m+\u001b[39m\u001b[38;5;241m=\u001b[39m \u001b[38;5;124m\"\u001b[39m\u001b[38;5;124mb\u001b[39m\u001b[38;5;124m\"\u001b[39m\n\u001b[0;32m-> 1661\u001b[0m \u001b[38;5;28mself\u001b[39m\u001b[38;5;241m.\u001b[39mhandles \u001b[38;5;241m=\u001b[39m \u001b[43mget_handle\u001b[49m\u001b[43m(\u001b[49m\n\u001b[1;32m   1662\u001b[0m \u001b[43m    \u001b[49m\u001b[43mf\u001b[49m\u001b[43m,\u001b[49m\n\u001b[1;32m   1663\u001b[0m \u001b[43m    \u001b[49m\u001b[43mmode\u001b[49m\u001b[43m,\u001b[49m\n\u001b[1;32m   1664\u001b[0m \u001b[43m    \u001b[49m\u001b[43mencoding\u001b[49m\u001b[38;5;241;43m=\u001b[39;49m\u001b[38;5;28;43mself\u001b[39;49m\u001b[38;5;241;43m.\u001b[39;49m\u001b[43moptions\u001b[49m\u001b[38;5;241;43m.\u001b[39;49m\u001b[43mget\u001b[49m\u001b[43m(\u001b[49m\u001b[38;5;124;43m\"\u001b[39;49m\u001b[38;5;124;43mencoding\u001b[39;49m\u001b[38;5;124;43m\"\u001b[39;49m\u001b[43m,\u001b[49m\u001b[43m \u001b[49m\u001b[38;5;28;43;01mNone\u001b[39;49;00m\u001b[43m)\u001b[49m\u001b[43m,\u001b[49m\n\u001b[1;32m   1665\u001b[0m \u001b[43m    \u001b[49m\u001b[43mcompression\u001b[49m\u001b[38;5;241;43m=\u001b[39;49m\u001b[38;5;28;43mself\u001b[39;49m\u001b[38;5;241;43m.\u001b[39;49m\u001b[43moptions\u001b[49m\u001b[38;5;241;43m.\u001b[39;49m\u001b[43mget\u001b[49m\u001b[43m(\u001b[49m\u001b[38;5;124;43m\"\u001b[39;49m\u001b[38;5;124;43mcompression\u001b[39;49m\u001b[38;5;124;43m\"\u001b[39;49m\u001b[43m,\u001b[49m\u001b[43m \u001b[49m\u001b[38;5;28;43;01mNone\u001b[39;49;00m\u001b[43m)\u001b[49m\u001b[43m,\u001b[49m\n\u001b[1;32m   1666\u001b[0m \u001b[43m    \u001b[49m\u001b[43mmemory_map\u001b[49m\u001b[38;5;241;43m=\u001b[39;49m\u001b[38;5;28;43mself\u001b[39;49m\u001b[38;5;241;43m.\u001b[39;49m\u001b[43moptions\u001b[49m\u001b[38;5;241;43m.\u001b[39;49m\u001b[43mget\u001b[49m\u001b[43m(\u001b[49m\u001b[38;5;124;43m\"\u001b[39;49m\u001b[38;5;124;43mmemory_map\u001b[39;49m\u001b[38;5;124;43m\"\u001b[39;49m\u001b[43m,\u001b[49m\u001b[43m \u001b[49m\u001b[38;5;28;43;01mFalse\u001b[39;49;00m\u001b[43m)\u001b[49m\u001b[43m,\u001b[49m\n\u001b[1;32m   1667\u001b[0m \u001b[43m    \u001b[49m\u001b[43mis_text\u001b[49m\u001b[38;5;241;43m=\u001b[39;49m\u001b[43mis_text\u001b[49m\u001b[43m,\u001b[49m\n\u001b[1;32m   1668\u001b[0m \u001b[43m    \u001b[49m\u001b[43merrors\u001b[49m\u001b[38;5;241;43m=\u001b[39;49m\u001b[38;5;28;43mself\u001b[39;49m\u001b[38;5;241;43m.\u001b[39;49m\u001b[43moptions\u001b[49m\u001b[38;5;241;43m.\u001b[39;49m\u001b[43mget\u001b[49m\u001b[43m(\u001b[49m\u001b[38;5;124;43m\"\u001b[39;49m\u001b[38;5;124;43mencoding_errors\u001b[39;49m\u001b[38;5;124;43m\"\u001b[39;49m\u001b[43m,\u001b[49m\u001b[43m \u001b[49m\u001b[38;5;124;43m\"\u001b[39;49m\u001b[38;5;124;43mstrict\u001b[39;49m\u001b[38;5;124;43m\"\u001b[39;49m\u001b[43m)\u001b[49m\u001b[43m,\u001b[49m\n\u001b[1;32m   1669\u001b[0m \u001b[43m    \u001b[49m\u001b[43mstorage_options\u001b[49m\u001b[38;5;241;43m=\u001b[39;49m\u001b[38;5;28;43mself\u001b[39;49m\u001b[38;5;241;43m.\u001b[39;49m\u001b[43moptions\u001b[49m\u001b[38;5;241;43m.\u001b[39;49m\u001b[43mget\u001b[49m\u001b[43m(\u001b[49m\u001b[38;5;124;43m\"\u001b[39;49m\u001b[38;5;124;43mstorage_options\u001b[39;49m\u001b[38;5;124;43m\"\u001b[39;49m\u001b[43m,\u001b[49m\u001b[43m \u001b[49m\u001b[38;5;28;43;01mNone\u001b[39;49;00m\u001b[43m)\u001b[49m\u001b[43m,\u001b[49m\n\u001b[1;32m   1670\u001b[0m \u001b[43m\u001b[49m\u001b[43m)\u001b[49m\n\u001b[1;32m   1671\u001b[0m \u001b[38;5;28;01massert\u001b[39;00m \u001b[38;5;28mself\u001b[39m\u001b[38;5;241m.\u001b[39mhandles \u001b[38;5;129;01mis\u001b[39;00m \u001b[38;5;129;01mnot\u001b[39;00m \u001b[38;5;28;01mNone\u001b[39;00m\n\u001b[1;32m   1672\u001b[0m f \u001b[38;5;241m=\u001b[39m \u001b[38;5;28mself\u001b[39m\u001b[38;5;241m.\u001b[39mhandles\u001b[38;5;241m.\u001b[39mhandle\n",
      "File \u001b[0;32m/net/holy-nfsisilon/ifs/rc_labs/hekstra_lab/people/hwang/anaconda/envs/laue/lib/python3.10/site-packages/pandas/io/common.py:859\u001b[0m, in \u001b[0;36mget_handle\u001b[0;34m(path_or_buf, mode, encoding, compression, memory_map, is_text, errors, storage_options)\u001b[0m\n\u001b[1;32m    854\u001b[0m \u001b[38;5;28;01melif\u001b[39;00m \u001b[38;5;28misinstance\u001b[39m(handle, \u001b[38;5;28mstr\u001b[39m):\n\u001b[1;32m    855\u001b[0m     \u001b[38;5;66;03m# Check whether the filename is to be opened in binary mode.\u001b[39;00m\n\u001b[1;32m    856\u001b[0m     \u001b[38;5;66;03m# Binary mode does not support 'encoding' and 'newline'.\u001b[39;00m\n\u001b[1;32m    857\u001b[0m     \u001b[38;5;28;01mif\u001b[39;00m ioargs\u001b[38;5;241m.\u001b[39mencoding \u001b[38;5;129;01mand\u001b[39;00m \u001b[38;5;124m\"\u001b[39m\u001b[38;5;124mb\u001b[39m\u001b[38;5;124m\"\u001b[39m \u001b[38;5;129;01mnot\u001b[39;00m \u001b[38;5;129;01min\u001b[39;00m ioargs\u001b[38;5;241m.\u001b[39mmode:\n\u001b[1;32m    858\u001b[0m         \u001b[38;5;66;03m# Encoding\u001b[39;00m\n\u001b[0;32m--> 859\u001b[0m         handle \u001b[38;5;241m=\u001b[39m \u001b[38;5;28;43mopen\u001b[39;49m\u001b[43m(\u001b[49m\n\u001b[1;32m    860\u001b[0m \u001b[43m            \u001b[49m\u001b[43mhandle\u001b[49m\u001b[43m,\u001b[49m\n\u001b[1;32m    861\u001b[0m \u001b[43m            \u001b[49m\u001b[43mioargs\u001b[49m\u001b[38;5;241;43m.\u001b[39;49m\u001b[43mmode\u001b[49m\u001b[43m,\u001b[49m\n\u001b[1;32m    862\u001b[0m \u001b[43m            \u001b[49m\u001b[43mencoding\u001b[49m\u001b[38;5;241;43m=\u001b[39;49m\u001b[43mioargs\u001b[49m\u001b[38;5;241;43m.\u001b[39;49m\u001b[43mencoding\u001b[49m\u001b[43m,\u001b[49m\n\u001b[1;32m    863\u001b[0m \u001b[43m            \u001b[49m\u001b[43merrors\u001b[49m\u001b[38;5;241;43m=\u001b[39;49m\u001b[43merrors\u001b[49m\u001b[43m,\u001b[49m\n\u001b[1;32m    864\u001b[0m \u001b[43m            \u001b[49m\u001b[43mnewline\u001b[49m\u001b[38;5;241;43m=\u001b[39;49m\u001b[38;5;124;43m\"\u001b[39;49m\u001b[38;5;124;43m\"\u001b[39;49m\u001b[43m,\u001b[49m\n\u001b[1;32m    865\u001b[0m \u001b[43m        \u001b[49m\u001b[43m)\u001b[49m\n\u001b[1;32m    866\u001b[0m     \u001b[38;5;28;01melse\u001b[39;00m:\n\u001b[1;32m    867\u001b[0m         \u001b[38;5;66;03m# Binary mode\u001b[39;00m\n\u001b[1;32m    868\u001b[0m         handle \u001b[38;5;241m=\u001b[39m \u001b[38;5;28mopen\u001b[39m(handle, ioargs\u001b[38;5;241m.\u001b[39mmode)\n",
      "\u001b[0;31mFileNotFoundError\u001b[0m: [Errno 2] No such file or directory: 'out_test_first3-rdw0,936_stdT16/out_P0124.csv'"
     ]
    }
   ],
   "source": [
    "print(f'   {\"careless run\":50s} {\"dataset\":10s} {\"CCpred,test\":20s} {\"top 5 ligand peak rmsds\"}')\n",
    "print(\"_\"*120)\n",
    "\n",
    "for j,holo in enumerate([\"P0115\",\"P0116\",\"P0123\",\"P0124\"]):\n",
    "    for i,file_in in enumerate([\"out_test_first4-all_metadata\",\n",
    "                            \"out_test_first4-alf\",\n",
    "                            \"out_test_first4-rdw0,936_stdT128-moreiters\",\n",
    "                            \"out_test_first4-rdw0,936_stdT16\",\n",
    "                            \"out_test_first4-rdw0,936_stdT8-stacking\",\n",
    "                            \"out_test_first4-rdw0,936_stdT16-file_id\",\n",
    "                            \"out_test_first4-rdw0,936_stdT16-ohp\",\n",
    "                            \"out_test_first8-rdw0,936_stdT16-ohp\", \n",
    "                            \"out_test_first16-rdw0,936_stdT16-ohp\",\n",
    "                            \"out_test_first4-rdw0,936_stdT16-ohp-mlpw\",\n",
    "                            \"out_test_first4-rdw0,936_stdT16-ohp-mlpw-alf\",\n",
    "                            \"out_test_first3-rdw0,936_stdT16\",\n",
    "                            \"out_test_first3-rdw0,936_stdT16-ohp\",\n",
    "                            \"out_test_first3-rdw0,936_stdT16-ohp-mlpw\",\n",
    "                            \"out_test_first3-rdw0,936_stdT16-ohp-mlpw-alf\",\n",
    "                            \"out_test_first8-rdw0,936_stdT16-ohp-mlpw\",\n",
    "                                \"out_test_first4-rdw0,936_stdT16-ohp-mlpw15\",\n",
    "                                \"out_test_first3-rdw0,936_stdT16-ohp-mlpw15\",\n",
    "                           ]):\n",
    "    \n",
    "\n",
    "        stats = pd.read_csv(f\"{file_in}/out_{holo}.csv\")\n",
    "        heights = stats[stats[\"residue\"]==\"LIG\"]\n",
    "        heights = heights[\"peakz\"][:5].to_numpy().round(decimals=2)\n",
    "        heights_sum = np.sum(np.abs(heights))\n",
    "        \n",
    "        bulk_ccpreds = pd.read_csv(f\"{file_in}/e35_ccpred_b.csv\")\n",
    "        ccpred_condition = (bulk_ccpreds[\"file\"]==f\"merged_e35_predictions_{j+2}.mtz\"\n",
    "                                 )*(bulk_ccpreds[\"test\"]==\"Test\")\n",
    "        bulk_ccpred = bulk_ccpreds[ccpred_condition][\"CCpred\"]\n",
    "        \n",
    "        print(f'{i:2d}  {file_in:50s} {holo:10s} {float(bulk_ccpred.iloc[0]):0.4f}        {list(heights)}  {heights_sum:3.2f}')\n",
    "    print(\"-\"*120)"
   ]
  },
  {
   "cell_type": "markdown",
   "id": "53aee170-84d0-407c-a853-ccec0fc45aae",
   "metadata": {},
   "source": [
    "using one-hot encoding, I get worse performance as I increase the number of datasets. But if I add mlp width, I get better performance as I increase the number of datasets. Unfortunately, I can't keep going up on the number of datasets, otherwise I run out of memory. (what can I do on an A100 with 80 gig of memory? are we doing science or engineering? science, right? if engineering, I'd still do 3 datasets with as much mlp width as I can, because that's the important part. If we want to report on science, I'd try to see the max dataset number I can do with mlp-width 15, and then go from there. I'd also throw in ALF1,BET1 flags. "
   ]
  },
  {
   "cell_type": "markdown",
   "id": "ede755f0-512f-440f-a633-11948968d2ca",
   "metadata": {},
   "source": [
    "# DW sweep"
   ]
  },
  {
   "cell_type": "code",
   "execution_count": 9,
   "id": "6971a9d0-c5d0-4bce-ae0d-5d9290161c13",
   "metadata": {},
   "outputs": [
    {
     "name": "stdout",
     "output_type": "stream",
     "text": [
      "   careless run                                       dataset    CCpred,test          top 5 ligand peak rmsds\n",
      "________________________________________________________________________________________________________________________\n",
      " 0  out_test_first3-rdwnone_stdT8-ohp-mlpw-alf         P0115      0.9878        [34.14, -18.99, -17.57, -16.35, 15.69]  102.74\n",
      " 1  out_test_first3-rdw0,0_stdT8-ohp-mlpw-alf          P0115      0.9883        [34.04, -19.04, -17.52, -16.47, 15.76]  102.83\n",
      " 2  out_test_first3-rdw0,5_stdT8-ohp-mlpw-alf          P0115      0.9926        [35.26, -20.14, -18.42, -17.7, 15.59]  107.11\n",
      " 3  out_test_first3-rdw0,75_stdT8-ohp-mlpw-alf         P0115      0.9954        [36.38, -20.92, -18.67, -18.36, 15.77]  110.10\n",
      " 4  out_test_first3-rdw0,875_stdT8-ohp-mlpw-alf        P0115      0.9964        [36.58, -21.31, -18.59, -18.56, 16.03]  111.07\n",
      " 5  out_test_first3-rdw0,936_stdT8-ohp-mlpw-alf        P0115      0.9967        [36.74, -21.69, -18.61, -18.6, 16.27]  111.91\n",
      " 6  out_test_first3-rdw0,96875_stdT8-ohp-mlpw-alf      P0115      0.9968        [36.16, -21.54, -18.57, -18.47, 16.31]  111.05\n",
      " 7  out_test_first3-rdw0,984375_stdT8-ohp-mlpw-alf     P0115      0.9969        [35.29, -21.22, -18.21, -18.13, 16.44]  109.29\n",
      "------------------------------------------------------------------------------------------------------------------------\n",
      " 0  out_test_first3-rdwnone_stdT8-ohp-mlpw-alf         P0116      0.9863        [-14.08, -9.11, 7.91, 7.69, 7.32]  46.11\n",
      " 1  out_test_first3-rdw0,0_stdT8-ohp-mlpw-alf          P0116      0.9862        [-14.23, -9.15, 7.86, 7.81, 7.33]  46.38\n",
      " 2  out_test_first3-rdw0,5_stdT8-ohp-mlpw-alf          P0116      0.9871        [-15.25, -9.74, 8.28, 8.07, 7.94]  49.28\n",
      " 3  out_test_first3-rdw0,75_stdT8-ohp-mlpw-alf         P0116      0.9875        [-15.68, -9.93, 8.39, 8.38, 8.13]  50.51\n",
      " 4  out_test_first3-rdw0,875_stdT8-ohp-mlpw-alf        P0116      0.9877        [-15.64, -9.89, 8.67, 8.55, -8.26]  51.01\n",
      " 5  out_test_first3-rdw0,936_stdT8-ohp-mlpw-alf        P0116      0.9877        [-16.12, -9.93, 8.73, 8.7, -8.44]  51.92\n",
      " 6  out_test_first3-rdw0,96875_stdT8-ohp-mlpw-alf      P0116      0.9878        [-15.97, -9.97, 8.7, -8.69, 8.58]  51.91\n",
      " 7  out_test_first3-rdw0,984375_stdT8-ohp-mlpw-alf     P0116      0.9879        [-15.81, -9.66, -8.95, 8.68, 8.63]  51.73\n",
      "------------------------------------------------------------------------------------------------------------------------\n",
      " 0  out_test_first3-rdwnone_stdT8-ohp-mlpw-alf         P0123      0.9963        [-7.55, 7.14, 7.12, 6.82, 6.68]  35.31\n",
      " 1  out_test_first3-rdw0,0_stdT8-ohp-mlpw-alf          P0123      0.9962        [-7.51, 7.2, 7.13, 6.83, 6.69]  35.36\n",
      " 2  out_test_first3-rdw0,5_stdT8-ohp-mlpw-alf          P0123      0.9968        [-7.92, 7.28, 7.11, 6.94, 6.57]  35.82\n",
      " 3  out_test_first3-rdw0,75_stdT8-ohp-mlpw-alf         P0123      0.9972        [-8.13, 7.4, 7.3, 6.89, 6.78]  36.50\n",
      " 4  out_test_first3-rdw0,875_stdT8-ohp-mlpw-alf        P0123      0.9974        [-8.16, 7.39, 7.38, 6.86, 6.81]  36.60\n",
      " 5  out_test_first3-rdw0,936_stdT8-ohp-mlpw-alf        P0123      0.9974        [-8.1, 7.49, 7.3, 7.0, 6.82]  36.71\n",
      " 6  out_test_first3-rdw0,96875_stdT8-ohp-mlpw-alf      P0123      0.9974        [-8.09, 7.44, 7.19, 6.99, 6.93]  36.64\n",
      " 7  out_test_first3-rdw0,984375_stdT8-ohp-mlpw-alf     P0123      0.9974        [-8.0, 7.45, 7.03, 6.92, 6.81]  36.21\n",
      "------------------------------------------------------------------------------------------------------------------------\n"
     ]
    }
   ],
   "source": [
    "\n",
    "print(f'   {\"careless run\":50s} {\"dataset\":10s} {\"CCpred,test\":20s} {\"top 5 ligand peak rmsds\"}')\n",
    "print(\"_\"*120)\n",
    "\n",
    "for j,holo in enumerate([\"P0115\",\"P0116\",\"P0123\"]):\n",
    "    for i,file_in in enumerate([\"out_test_first3-rdwnone_stdT8-ohp-mlpw-alf\",\n",
    "                            \"out_test_first3-rdw0,0_stdT8-ohp-mlpw-alf\",\n",
    "                            \"out_test_first3-rdw0,5_stdT8-ohp-mlpw-alf\",\n",
    "                            \"out_test_first3-rdw0,75_stdT8-ohp-mlpw-alf\",\n",
    "                            \"out_test_first3-rdw0,875_stdT8-ohp-mlpw-alf\",\n",
    "                            \"out_test_first3-rdw0,936_stdT8-ohp-mlpw-alf\",\n",
    "                            \"out_test_first3-rdw0,96875_stdT8-ohp-mlpw-alf\",\n",
    "                            \"out_test_first3-rdw0,984375_stdT8-ohp-mlpw-alf\",\n",
    "                           ]):\n",
    "    \n",
    "\n",
    "        stats = pd.read_csv(f\"{file_in}/out_{holo}.csv\")\n",
    "        heights = stats[stats[\"residue\"]==\"LIG\"]\n",
    "        heights = heights[\"peakz\"][:5].to_numpy().round(decimals=2)\n",
    "        heights_sum = np.sum(np.abs(heights))\n",
    "        \n",
    "        bulk_ccpreds = pd.read_csv(f\"{file_in}/e35_ccpred_b.csv\")\n",
    "        ccpred_condition = (bulk_ccpreds[\"file\"]==f\"merged_e35_predictions_{j+2}.mtz\"\n",
    "                                 )*(bulk_ccpreds[\"test\"]==\"Test\")\n",
    "        bulk_ccpred = bulk_ccpreds[ccpred_condition][\"CCpred\"]\n",
    "        \n",
    "        print(f'{i:2d}  {file_in:50s} {holo:10s} {float(bulk_ccpred.iloc[0]):0.4f}        {list(heights)}  {heights_sum:3.2f}')\n",
    "    print(\"-\"*120)"
   ]
  },
  {
   "cell_type": "markdown",
   "id": "745090e5-9cd8-45eb-9840-660ff3441948",
   "metadata": {},
   "source": [
    "### more holo difference maps to determine the effect of iteration number"
   ]
  },
  {
   "cell_type": "code",
   "execution_count": 4,
   "id": "ac32f232-2233-422a-9f64-00faff0baf62",
   "metadata": {},
   "outputs": [
    {
     "name": "stdout",
     "output_type": "stream",
     "text": [
      "   careless run                                       dataset    CCpred,test          top 5 ligand peak rmsds\n",
      "________________________________________________________________________________________________________________________\n",
      "0  out_test_first4-mlp_layers-rdw0.9                  P0115      0.9966               [30.69, -15.75, 14.78, -14.33, -13.67]\n",
      "1  out_test_first4-mlp_layers-rdw0.9-iterations       P0115      0.9966               [32.85, -16.43, -15.51, 14.95, -14.79]\n",
      "------------------------------------------------------------------------------------------------------------------------\n",
      "0  out_test_first4-mlp_layers-rdw0.9                  P0116      0.9873               [-14.04, 8.67, -8.07, 7.56, 7.46]\n",
      "1  out_test_first4-mlp_layers-rdw0.9-iterations       P0116      0.9873               [-14.06, 8.48, -7.81, 7.43, 7.34]\n",
      "------------------------------------------------------------------------------------------------------------------------\n",
      "0  out_test_first4-mlp_layers-rdw0.9                  P0123      0.9971               [-7.48, 6.65, 6.58, 6.42, -6.07]\n",
      "1  out_test_first4-mlp_layers-rdw0.9-iterations       P0123      0.9974               [-7.89, 7.04, 6.6, 6.4, -6.19]\n",
      "------------------------------------------------------------------------------------------------------------------------\n",
      "0  out_test_first4-mlp_layers-rdw0.9                  P0124      0.9973               [-17.19, 12.66, 12.06, 10.37, 9.81]\n",
      "1  out_test_first4-mlp_layers-rdw0.9-iterations       P0124      0.9974               [-17.11, 12.07, 11.68, 10.37, -9.32]\n",
      "------------------------------------------------------------------------------------------------------------------------\n"
     ]
    }
   ],
   "source": [
    "print(f'   {\"careless run\":50s} {\"dataset\":10s} {\"CCpred,test\":20s} {\"top 5 ligand peak rmsds\"}')\n",
    "print(\"_\"*120)\n",
    "\n",
    "for j,holo in enumerate([\"P0115\",\"P0116\",\"P0123\",\"P0124\"]):\n",
    "    for i,file_in in enumerate([\n",
    "                               \"out_test_first4-mlp_layers-rdw0.9\",\n",
    "                               \"out_test_first4-mlp_layers-rdw0.9-iterations\",\n",
    "                               ]):\n",
    "    \n",
    "        #extract peak heights of difference map peaks near the ligand in each model\n",
    "        stats = pd.read_csv(f\"{file_in}/out_{holo}.csv\")\n",
    "        heights = stats[stats[\"residue\"]==\"LIG\"]\n",
    "        heights = heights[\"peakz\"][:5].to_numpy().round(decimals=2)\n",
    "        \n",
    "        #extract the test CCpred of each holo mtz file\n",
    "        bulk_ccpreds = pd.read_csv(f\"{file_in}/e35_ccpred_b.csv\")\n",
    "        ccpred_condition = (bulk_ccpreds[\"file\"]==f\"merged_e35_predictions_{j+2}.mtz\"\n",
    "                                 )*(bulk_ccpreds[\"test\"]==\"Test\")\n",
    "        bulk_ccpred = bulk_ccpreds[ccpred_condition][\"CCpred\"]\n",
    "        \n",
    "        print(f'{i}  {file_in:50s} {holo:10s} {float(bulk_ccpred):0.4f}               {list(heights)}')\n",
    "    print(\"-\"*120)"
   ]
  },
  {
   "cell_type": "markdown",
   "id": "368c5204-9ff3-4610-829d-0b8269e71811",
   "metadata": {},
   "source": [
    "Comparing peak heights, it is still ambiguous whether increasing iteration number matters. Comparing CCpreds, maybe CCpred improves a little bit. It probably doesn't make a difference to use 10k iterations over 30k iterations."
   ]
  },
  {
   "cell_type": "markdown",
   "id": "e448cb17-1365-4fa8-b0ae-8e8afc8f9137",
   "metadata": {},
   "source": [
    "### more holo difference maps to determine the effect of datasets number"
   ]
  },
  {
   "cell_type": "code",
   "execution_count": 5,
   "id": "92268202-e1b5-4946-b34f-4e0c311cf0b6",
   "metadata": {},
   "outputs": [
    {
     "name": "stdout",
     "output_type": "stream",
     "text": [
      "   careless run                                       dataset    CCpred,test          top 5 ligand peak rmsds\n",
      "________________________________________________________________________________________________________________________\n",
      "0  out_test_first4-mlp_layers-rdw0.9                  P0115      0.9966               [30.69, -15.75, 14.78, -14.33, -13.67]\n",
      "1  out_test_first20-in_order                          P0115      0.9961               [30.88, -16.06, -14.58, 14.31, -13.86]\n",
      "------------------------------------------------------------------------------------------------------------------------\n",
      "0  out_test_first4-mlp_layers-rdw0.9                  P0116      0.9873               [-14.04, 8.67, -8.07, 7.56, 7.46]\n",
      "1  out_test_first20-in_order                          P0116      0.9865               [-14.45, 8.46, -8.04, 7.85, 7.15]\n",
      "------------------------------------------------------------------------------------------------------------------------\n",
      "0  out_test_first4-mlp_layers-rdw0.9                  P0123      0.9971               [-7.48, 6.65, 6.58, 6.42, -6.07]\n",
      "1  out_test_first20-in_order                          P0123      0.9974               [-7.6, 6.9, 6.72, 6.28, -6.12]\n",
      "------------------------------------------------------------------------------------------------------------------------\n",
      "0  out_test_first4-mlp_layers-rdw0.9                  P0124      0.9973               [-17.19, 12.66, 12.06, 10.37, 9.81]\n",
      "1  out_test_first20-in_order                          P0124      0.9972               [-16.99, 11.74, 11.64, 10.63, -9.76]\n",
      "------------------------------------------------------------------------------------------------------------------------\n"
     ]
    }
   ],
   "source": [
    "print(f'   {\"careless run\":50s} {\"dataset\":10s} {\"CCpred,test\":20s} {\"top 5 ligand peak rmsds\"}')\n",
    "print(\"_\"*120)\n",
    "\n",
    "for j,holo in enumerate([\"P0115\",\"P0116\",\"P0123\",\"P0124\"]):\n",
    "    for i,file_in in enumerate([\n",
    "                               \"out_test_first4-mlp_layers-rdw0.9\",\n",
    "                               \"out_test_first20-in_order\",\n",
    "                               ]):\n",
    "    \n",
    "\n",
    "        stats = pd.read_csv(f\"{file_in}/out_{holo}.csv\")\n",
    "        heights = stats[stats[\"residue\"]==\"LIG\"]\n",
    "        heights = heights[\"peakz\"][:5].to_numpy().round(decimals=2)\n",
    "        \n",
    "        bulk_ccpreds = pd.read_csv(f\"{file_in}/e35_ccpred_b.csv\")\n",
    "        ccpred_condition = (bulk_ccpreds[\"file\"]==f\"merged_e35_predictions_{j+2}.mtz\"\n",
    "                                 )*(bulk_ccpreds[\"test\"]==\"Test\")\n",
    "        bulk_ccpred = bulk_ccpreds[ccpred_condition][\"CCpred\"]\n",
    "        \n",
    "        print(f'{i}  {file_in:50s} {holo:10s} {float(bulk_ccpred):0.4f}               {list(heights)}')\n",
    "    print(\"-\"*120)"
   ]
  },
  {
   "cell_type": "code",
   "execution_count": null,
   "id": "75066ec0-0fab-4cfe-a538-96e4d6f03b39",
   "metadata": {},
   "outputs": [],
   "source": [
    "out_test_last33-dw_r"
   ]
  },
  {
   "cell_type": "code",
   "execution_count": 13,
   "id": "6f1a3d1a-f565-488c-86b4-bafe3dbeb049",
   "metadata": {},
   "outputs": [
    {
     "name": "stdout",
     "output_type": "stream",
     "text": [
      "   careless run                                       dataset    CCpred,test          top 5 ligand peak rmsds\n",
      "________________________________________________________________________________________________________________________\n",
      "0  out_test_first4-mlp_layers-rdw0.9                  P0115      0.9966               [30.69, -15.75, 14.78, -14.33, -13.67]\n",
      "1  out_test_first4-add_rlp                            P0115      0.9969               [25.95, 12.96, -11.47, 10.76, -10.49]\n",
      "2  out_test_first32-file_id                           P0115      0.9961               [30.42, -15.64, -14.16, 13.97, -13.33]\n",
      "3  out_test_first32-in_order                          P0115      0.9960               [30.54, -15.67, -14.19, 13.9, -13.46]\n",
      "------------------------------------------------------------------------------------------------------------------------\n",
      "0  out_test_first4-mlp_layers-rdw0.9                  P0116      0.9873               [-14.04, 8.67, -8.07, 7.56, 7.46]\n",
      "1  out_test_first4-add_rlp                            P0116      0.9888               [-10.41, 8.13, -6.51, 6.42, 6.04]\n",
      "2  out_test_first32-file_id                           P0116      0.9874               [-14.03, 8.87, -7.99, 7.92, 7.45]\n",
      "3  out_test_first32-in_order                          P0116      0.9875               [-14.16, 8.86, -7.93, 7.84, 7.37]\n",
      "------------------------------------------------------------------------------------------------------------------------\n",
      "0  out_test_first4-mlp_layers-rdw0.9                  P0123      0.9971               [-7.48, 6.65, 6.58, 6.42, -6.07]\n",
      "1  out_test_first4-add_rlp                            P0123      0.9977               [-6.92, 6.31, 5.92, 5.74, 5.65]\n",
      "2  out_test_first32-file_id                           P0123      0.9974               [-7.62, 6.83, 6.63, 6.61, -6.02]\n",
      "3  out_test_first32-in_order                          P0123      0.9974               [-7.78, 6.99, 6.79, 6.38, -6.09]\n",
      "------------------------------------------------------------------------------------------------------------------------\n",
      "0  out_test_first4-mlp_layers-rdw0.9                  P0124      0.9973               [-17.19, 12.66, 12.06, 10.37, 9.81]\n",
      "1  out_test_first4-add_rlp                            P0124      0.9976               [-13.29, 11.78, 10.84, 9.36, -8.27]\n",
      "2  out_test_first32-file_id                           P0124      0.9972               [-16.61, 11.95, 11.88, 10.7, -9.63]\n",
      "3  out_test_first32-in_order                          P0124      0.9968               [-16.64, 11.83, 11.47, 10.58, -9.62]\n",
      "------------------------------------------------------------------------------------------------------------------------\n"
     ]
    }
   ],
   "source": [
    "print(f'   {\"careless run\":50s} {\"dataset\":10s} {\"CCpred,test\":20s} {\"top 5 ligand peak rmsds\"}')\n",
    "print(\"_\"*120)\n",
    "\n",
    "for j,holo in enumerate([\"P0115\",\"P0116\",\"P0123\",\"P0124\"]):\n",
    "    for i,file_in in enumerate([\n",
    "                               \"out_test_first4-mlp_layers-rdw0.9\",\n",
    "                               \"out_test_first4-add_rlp\",\n",
    "                            \"out_test_first32-file_id\",\n",
    "                            \"out_test_first32-in_order\",\n",
    "                               ]):\n",
    "    \n",
    "\n",
    "        stats = pd.read_csv(f\"{file_in}/out_{holo}.csv\")\n",
    "        heights = stats[stats[\"residue\"]==\"LIG\"]\n",
    "        heights = heights[\"peakz\"][:5].to_numpy().round(decimals=2)\n",
    "        \n",
    "        bulk_ccpreds = pd.read_csv(f\"{file_in}/e35_ccpred_b.csv\")\n",
    "        ccpred_condition = (bulk_ccpreds[\"file\"]==f\"merged_e35_predictions_{j+2}.mtz\"\n",
    "                                 )*(bulk_ccpreds[\"test\"]==\"Test\")\n",
    "        bulk_ccpred = bulk_ccpreds[ccpred_condition][\"CCpred\"]\n",
    "        \n",
    "        print(f'{i}  {file_in:50s} {holo:10s} {float(bulk_ccpred):0.4f}               {list(heights)}')\n",
    "    print(\"-\"*120)"
   ]
  },
  {
   "cell_type": "markdown",
   "id": "f6c769d4-b2f5-49c2-8480-8bd33094ece2",
   "metadata": {},
   "source": [
    "Comparing peak heights, it is still ambiguous whether increasing iteration number matters. Comparing CCpreds, CCpred drops a little bit. It probably doesn't make a difference to use 10k iterations over 30k iterations."
   ]
  },
  {
   "cell_type": "markdown",
   "id": "a1836d46-c5aa-4b8a-8fd6-181911e58f1c",
   "metadata": {},
   "source": [
    "I still haven't compared the effect of resolution cut on the peak heights. "
   ]
  },
  {
   "cell_type": "markdown",
   "id": "fbe0e288-840c-47b6-93dd-917c27e5fab2",
   "metadata": {},
   "source": [
    "I sweep over $r_{dw}$ values at dof 128: here I compare $r_{dw}=0.8,0.9,0.936,0.97,0.99$. "
   ]
  },
  {
   "cell_type": "code",
   "execution_count": 24,
   "id": "b41bd9c3-195a-4e57-bfaa-1a454712b81a",
   "metadata": {},
   "outputs": [
    {
     "name": "stdout",
     "output_type": "stream",
     "text": [
      "   careless run                                       dataset    CCpred,test          top 5 ligand peak rmsds\n",
      "________________________________________________________________________________________________________________________\n",
      "0  out_test_first4-rdw-none_stdT128                   P0115      0.9909               [32.59, -18.07, -15.29, 15.03, 14.71]\n",
      "0  out_test_first4-rdw-none_stdT128                   P0116      0.9855               [-14.42, -9.15, 8.41, 7.91, 7.22]\n",
      "------------------------------------------------------------------------------------------------------------------------\n",
      "1  out_test_first4-rdw0_stdT128                       P0115      0.9960               [10.9, -8.7, 8.22, -7.65, 6.54]\n",
      "1  out_test_first4-rdw0_stdT128                       P0116      0.9863               []\n",
      "------------------------------------------------------------------------------------------------------------------------\n",
      "2  out_test_first4-rdw0,5_stdT128                     P0115      0.9964               [11.38, -8.84, 8.56, -7.81, 7.19]\n",
      "2  out_test_first4-rdw0,5_stdT128                     P0116      0.9867               []\n",
      "------------------------------------------------------------------------------------------------------------------------\n",
      "3  out_test_first4-rdw0,75_stdT128                    P0115      0.9965               [11.41, -8.67, 8.57, -7.98, 7.23]\n",
      "3  out_test_first4-rdw0,75_stdT128                    P0116      0.9868               []\n",
      "------------------------------------------------------------------------------------------------------------------------\n",
      "4  out_test_first4-rdw0,8_stdT128                     P0115      0.9965               [32.46, -15.89, -15.21, 14.85, -14.63]\n",
      "4  out_test_first4-rdw0,8_stdT128                     P0116      0.9868               [-13.48, 8.1, -7.77, 7.35, 7.1]\n",
      "------------------------------------------------------------------------------------------------------------------------\n",
      "5  out_test_first4-rdw0,875_stdT128                   P0115      0.9966               [11.6, -8.74, 8.41, -7.73, 7.52]\n",
      "5  out_test_first4-rdw0,875_stdT128                   P0116      0.9869               []\n",
      "------------------------------------------------------------------------------------------------------------------------\n",
      "6  out_test_first4-mlp_layers-rdw0.9_stdT             P0115      0.9967               [32.46, -16.27, -15.15, 15.09, -14.45]\n",
      "6  out_test_first4-mlp_layers-rdw0.9_stdT             P0116      0.9884               [-14.54, 9.03, -8.07, 7.76, 7.67]\n",
      "------------------------------------------------------------------------------------------------------------------------\n",
      "7  out_test_first4-rdw0,936_stdT128                   P0115      0.9966               [32.5, -16.24, 14.97, -14.96, -14.48]\n",
      "7  out_test_first4-rdw0,936_stdT128                   P0116      0.9870               [-14.05, 8.65, -8.13, 7.49, 7.39]\n",
      "------------------------------------------------------------------------------------------------------------------------\n",
      "8  out_test_first4-rdw0,97_stdT128                    P0115      0.9966               [31.95, -16.24, 14.97, -14.87, -14.18]\n",
      "8  out_test_first4-rdw0,97_stdT128                    P0116      0.9870               [-14.15, 8.84, -8.18, 7.91, 7.63]\n",
      "------------------------------------------------------------------------------------------------------------------------\n",
      "9  out_test_first4-rdw0,99_stdT128                    P0115      0.9966               [30.71, -15.75, 14.77, -14.34, -13.67]\n",
      "9  out_test_first4-rdw0,99_stdT128                    P0116      0.9873               [-14.06, 8.67, -8.05, 7.6, 7.47]\n",
      "------------------------------------------------------------------------------------------------------------------------\n"
     ]
    }
   ],
   "source": [
    "print(f'   {\"careless run\":50s} {\"dataset\":10s} {\"CCpred,test\":20s} {\"top 5 ligand peak rmsds\"}')\n",
    "print(\"_\"*120)\n",
    "for i,file_in in enumerate([\"out_test_first4-rdw-none_stdT128\",\n",
    "                            \"out_test_first4-rdw0_stdT128\",\n",
    "                            \"out_test_first4-rdw0,5_stdT128\",\n",
    "                            \"out_test_first4-rdw0,75_stdT128\",\n",
    "                            \"out_test_first4-rdw0,8_stdT128\",\n",
    "                            \"out_test_first4-rdw0,875_stdT128\",\n",
    "                            \"out_test_first4-mlp_layers-rdw0.9_stdT\",\n",
    "                            \"out_test_first4-rdw0,936_stdT128\",\n",
    "                            \"out_test_first4-rdw0,97_stdT128\",\n",
    "                            \"out_test_first4-rdw0,99_stdT128\",\n",
    "                           ]):\n",
    "    i\n",
    "    #extract peak heights of difference map peaks near the ligand in each model\n",
    "    p0115_stats = pd.read_csv(f\"{file_in}/out_P0115.csv\")\n",
    "    p0115_heights = p0115_stats[p0115_stats[\"residue\"]==\"LIG\"]\n",
    "    p0115_heights = p0115_heights[\"peakz\"][:5].to_numpy().round(decimals=2)\n",
    "    \n",
    "    p0116_stats = pd.read_csv(f\"{file_in}/out_P0116.csv\")\n",
    "    p0116_heights = p0116_stats[p0116_stats[\"residue\"]==\"LIG\"]\n",
    "    p0116_heights = p0116_heights[\"peakz\"][:5].to_numpy().round(decimals=2)\n",
    "\n",
    "    #extract the test CCpred of each holo mtz file\n",
    "    bulk_ccpreds = pd.read_csv(f\"{file_in}/e35_ccpred_b.csv\")\n",
    "    \n",
    "    if file_in == \"out_test_first4-no_dw\":\n",
    "        pnum=1\n",
    "    else:\n",
    "        pnum=2 \n",
    "        \n",
    "    ccpred_p0115_condition = (bulk_ccpreds[\"file\"]==f\"merged_e35_predictions_{pnum}.mtz\"\n",
    "                             )*(bulk_ccpreds[\"test\"]==\"Test\")\n",
    "    bulk_ccpred_p0115 = float(bulk_ccpreds[ccpred_p0115_condition][\"CCpred\"].iloc[0])\n",
    "    ccpred_p0116_condition = (bulk_ccpreds[\"file\"]==f\"merged_e35_predictions_{pnum+1}.mtz\"\n",
    "                             )*(bulk_ccpreds[\"test\"]==\"Test\")\n",
    "    bulk_ccpred_p0116 = float(bulk_ccpreds[ccpred_p0116_condition][\"CCpred\"].iloc[0])\n",
    "    \n",
    "    \n",
    "    print(f'{i}  {file_in:50s} {\"P0115\":10s} {float(bulk_ccpred_p0115):0.4f}               {list(p0115_heights)}')\n",
    "    print(f'{i}  {file_in:50s} {\"P0116\":10s} {float(bulk_ccpred_p0116):0.4f}               {list(p0116_heights)}')\n",
    "    print(\"-\"*120)\n"
   ]
  },
  {
   "cell_type": "markdown",
   "id": "e23cd034-1238-4cae-b341-ec6edfb39c9b",
   "metadata": {},
   "source": [
    "Based on CCpred,test and the ligand peak rmsds, I think $r_{dw}=0.9$, `dof` 128 is still the best. "
   ]
  },
  {
   "cell_type": "markdown",
   "id": "2a8c921c-4ba6-4de7-958e-c7ffa25c0d40",
   "metadata": {},
   "source": [
    "Unlike the lysozyme anomalous or PDZ2 EFX datasets, the optimization landscape doesn't seem as rocky here. I am satisfied with the current results. I would be happy to provide a $r_{dw}$ sweep over a sensible range. "
   ]
  },
  {
   "cell_type": "markdown",
   "id": "c2158665-5401-4040-af63-8dd7d9e1c113",
   "metadata": {},
   "source": [
    "Given the ok from Doeke, I will keep the $r_{dw}=0.9$, `dof` 128 parameters and scale up to a 32-dataset run and a 33-dataset run (I already checked that these will run on an NVIDIA v100 GPU with 32GB memory)."
   ]
  },
  {
   "cell_type": "markdown",
   "id": "b916b394-2188-4ca4-9836-f3fdc003af46",
   "metadata": {},
   "source": [
    "# Difference maps around the ligand"
   ]
  },
  {
   "cell_type": "markdown",
   "id": "ca75cb35-9305-4563-9928-721f054c0b4b",
   "metadata": {},
   "source": [
    "I visualize difference maps in coot. This is from the `out_test_first-20-in_order` `careless` run. "
   ]
  },
  {
   "cell_type": "markdown",
   "id": "7402629f-f4ff-4466-9681-479d8fc88aa8",
   "metadata": {},
   "source": [
    "P0115"
   ]
  },
  {
   "cell_type": "markdown",
   "id": "83fd5f55-3112-4efd-aa66-9b300e2867f8",
   "metadata": {},
   "source": [
    "<div class=\"row\">\n",
    "  <div class=\"column\">\n",
    "    <img src=\"P0115.png\" alt=\"drawing\" width=\"400\"/>\n",
    "  </div>\n",
    "  <div class=\"column\">\n",
    "    <img src=\"P0116.png\" alt=\"drawing\" width=\"400\"/>\n",
    "  </div>\n",
    "</div>"
   ]
  },
  {
   "cell_type": "markdown",
   "id": "67b8c613-0fc5-43a2-8988-679d59fafab6",
   "metadata": {},
   "source": [
    "P0116"
   ]
  },
  {
   "cell_type": "markdown",
   "id": "4a56a921-2b6f-4326-ab0b-14c40a243f00",
   "metadata": {},
   "source": [
    "Now let's process a ton of datasets simultaneously. "
   ]
  },
  {
   "cell_type": "code",
   "execution_count": null,
   "id": "b4235261-e8ed-4d24-a414-758e17bfba7f",
   "metadata": {},
   "outputs": [
    {
     "name": "stdout",
     "output_type": "stream",
     "text": [
      "Submitted batch job 13004643\n",
      "Submitted batch job 13004644\n",
      "Submitted batch job 13004645\n",
      "Submitted batch job 13004646\n",
      "Submitted batch job 13004647\n",
      "Submitted batch job 13004648\n",
      "Submitted batch job 13004649\n",
      "Submitted batch job 13004650\n",
      "Submitted batch job 13004651\n",
      "Submitted batch job 13004652\n",
      "Submitted batch job 13004653\n",
      "Submitted batch job 13004654\n",
      "Submitted batch job 13004655\n",
      "Submitted batch job 13004656\n",
      "Submitted batch job 13004657\n",
      "Submitted batch job 13004658\n",
      "Submitted batch job 13004659\n",
      "Submitted batch job 13004660\n",
      "Submitted batch job 13004661\n",
      "Submitted batch job 13004662\n",
      "Submitted batch job 13004663\n",
      "Submitted batch job 13004664\n",
      "Submitted batch job 13004665\n",
      "Submitted batch job 13004666\n",
      "Submitted batch job 13004667\n",
      "Submitted batch job 13004668\n",
      "Submitted batch job 13004669\n",
      "Submitted batch job 13004670\n",
      "Submitted batch job 13004671\n",
      "Submitted batch job 13004672\n",
      "Submitted batch job 13004673\n",
      "Submitted batch job 13004674\n",
      "Submitted batch job 13004675\n",
      "Submitted batch job 13004676\n"
     ]
    }
   ],
   "source": [
    "%%bash\n",
    "for dir in out_test_first32-in_order;do \n",
    "#for dir in out_test_first32-in_order out_test_last33;do \n",
    "    mkdir ${dir}/phenix\n",
    "    cd ${dir}/phenix\n",
    "    cp ../../autorefine.sh .\n",
    "    \n",
    "    for dataset in {1..34};do\n",
    "\n",
    "        #for the old datasets, like those from out_test_first20-in_order, we should use the flipped datasets .._flip.mtz. \n",
    "        sbatch autorefine.sh ../ $dataset merged_e35_${dataset}.mtz ../apo_edit.pdb\n",
    "    done \n",
    "    cd ../../\n",
    "done"
   ]
  },
  {
   "cell_type": "code",
   "execution_count": 52,
   "id": "2cd789ef-880c-4754-a32e-a38e11f64a65",
   "metadata": {},
   "outputs": [
    {
     "data": {
      "text/plain": [
       "'/n/holyscratch01/hekstra_lab/hwang/monochromatic/dfs/process'"
      ]
     },
     "execution_count": 52,
     "metadata": {},
     "output_type": "execute_result"
    }
   ],
   "source": [
    "pwd"
   ]
  },
  {
   "cell_type": "code",
   "execution_count": 57,
   "id": "242389b4-06ea-4a54-b73b-1b468d3a9527",
   "metadata": {},
   "outputs": [
    {
     "name": "stderr",
     "output_type": "stream",
     "text": [
      "/n/home01/hwang6/mambaforge/envs/tf2.12_cuda11/lib/python3.10/site-packages/careless/stats/ccpred.py:131: UserWarning: Tight layout not applied. The bottom and top margins cannot be made large enough to accommodate all axes decorations.\n",
      "  plt.tight_layout()\n",
      "/n/home01/hwang6/mambaforge/envs/tf2.12_cuda11/lib/python3.10/site-packages/careless/stats/ccpred.py:131: UserWarning: Tight layout not applied. The bottom and top margins cannot be made large enough to accommodate all axes decorations.\n",
      "  plt.tight_layout()\n"
     ]
    }
   ],
   "source": [
    "%%bash\n",
    "\n",
    "for dir in out_test_first32-in_order out_test_last33;do \n",
    "    sh stats_for_production.sh ${dir}\n",
    "done"
   ]
  },
  {
   "cell_type": "code",
   "execution_count": 15,
   "id": "92805c3c-0f4a-4c11-bb51-6c69d4aede62",
   "metadata": {},
   "outputs": [
    {
     "name": "stdout",
     "output_type": "stream",
     "text": [
      "Submitted batch job 13326988\n",
      "Submitted batch job 13326989\n"
     ]
    }
   ],
   "source": [
    "%%bash\n",
    "for dir in out_test_first32-in_order ;do \n",
    "    #sbatch make_diffmap-first32.sh ${dir}\n",
    "    sbatch make_diffmap-first32-cut_1,5.sh ${dir}\n",
    "done\n",
    "\n",
    "for dir in out_test_last33-dw_r;do \n",
    "    #sbatch make_diffmap-last33.sh ${dir}\n",
    "    sbatch make_diffmap-last33-cut_1,5.sh ${dir}\n",
    "done"
   ]
  },
  {
   "cell_type": "code",
   "execution_count": 3,
   "id": "bc9ae98a-07b2-48be-947e-8876f46d3759",
   "metadata": {},
   "outputs": [
    {
     "name": "stdout",
     "output_type": "stream",
     "text": [
      "Submitted batch job 14727984\n"
     ]
    }
   ],
   "source": [
    "%%bash\n",
    "for dir in out_test_first32-in_order ;do \n",
    "    sbatch make_diffmap-first32.sh ${dir}\n",
    "done\n",
    "\n",
    "# for dir in out_test_last33-no_dw ;do \n",
    "#     sbatch make_diffmap-last33.sh ${dir}\n",
    "# done"
   ]
  },
  {
   "cell_type": "code",
   "execution_count": 2,
   "id": "a61632f3-94d9-4137-98c0-b79904f6bb3f",
   "metadata": {},
   "outputs": [],
   "source": [
    "%%bash\n",
    "scancel 14727066"
   ]
  },
  {
   "cell_type": "code",
   "execution_count": null,
   "id": "cf34218b-3d01-4d94-9dde-a065bb99a83b",
   "metadata": {},
   "outputs": [],
   "source": [
    "a = rs.read_mtz(\"out_test_first32-in_order/dfs_49.mtz\")\n",
    "b = rs.read_mtZ(\""
   ]
  },
  {
   "cell_type": "code",
   "execution_count": 18,
   "id": "e610d390-7eb6-4aa0-9d8b-cc2e24594d32",
   "metadata": {},
   "outputs": [],
   "source": [
    "file_pattern = '../20221007_unscaled_unmerged/UCSF-P*/out.mtz'\n",
    "files = glob.glob(file_pattern)\n",
    "dataset_names = []\n",
    "files.sort()\n",
    "for name in files:\n",
    "    dataset_names.append(name[-13:-8])"
   ]
  },
  {
   "cell_type": "code",
   "execution_count": 56,
   "id": "5943b36f-7380-433c-8e39-28af7a93ffd9",
   "metadata": {},
   "outputs": [
    {
     "name": "stdout",
     "output_type": "stream",
     "text": [
      "    careless run                                       dataset    CCpred,test          top 5 ligand peak rmsds\n",
      "________________________________________________________________________________________________________________________\n",
      " 2  out_test_first32-in_order                          P0115      0.9960               [30.54, -15.67, -14.19, 13.9, -13.46]\n",
      " 3  out_test_first32-in_order                          P0116      0.9875               [-14.16, 8.86, -7.93, 7.84, 7.37]\n",
      " 4  out_test_first32-in_order                          P0123      0.9974               [-7.78, 6.99, 6.79, 6.38, -6.09]\n",
      " 5  out_test_first32-in_order                          P0124      0.9968               [-16.64, 11.83, 11.47, 10.58, -9.62]\n",
      " 6  out_test_first32-in_order                          P0131      0.9964               [-13.85, 10.86, -9.67, -9.29, 8.24]\n",
      " 7  out_test_first32-in_order                          P0132      0.9950               [-15.09, 12.28, 12.09, -9.44, 9.25]\n",
      " 8  out_test_first32-in_order                          P0137      0.9926               [-17.81, 14.16, 12.27, 11.41, -11.19]\n",
      " 9  out_test_first32-in_order                          P0138      0.9969               [20.68, -18.61, 17.82, 12.52, -11.74]\n",
      "10  out_test_first32-in_order                          P0139      0.9966               [-20.32, -14.46, 12.18, 11.78, -10.2]\n",
      "11  out_test_first32-in_order                          P0142      0.9965               [-9.22]\n",
      "12  out_test_first32-in_order                          P0148      0.9891               [-16.16, 10.69, -10.07, -9.73, -7.64]\n",
      "13  out_test_first32-in_order                          P0159      0.9855               [31.03, 19.45, -17.27, -15.43, -14.38]\n",
      "14  out_test_first32-in_order                          P0161      0.9956               [35.03, 18.53, -16.54, -12.8, -12.12]\n",
      "15  out_test_first32-in_order                          P0163      0.9932               [-14.79, 12.9, 10.35, 10.25, -9.2]\n",
      "16  out_test_first32-in_order                          P0178      0.9709               [38.48, -18.06, -15.06, 14.47, -14.29]\n",
      "17  out_test_first32-in_order                          P0179      0.9780               [17.52, -16.92, 16.49, 13.7, -10.19]\n",
      "18  out_test_first32-in_order                          P0180      0.9893               [-11.89, -11.47, 9.83, -7.22, 6.36]\n",
      "19  out_test_first32-in_order                          P0182      0.9887               [15.24, 6.79, 6.78, -6.4, -6.35]\n",
      "20  out_test_first32-in_order                          P0188      0.9927               [-16.74, -15.22, 13.26, 12.77, 10.39]\n",
      "21  out_test_first32-in_order                          P0190      0.9870               [-9.2, 6.84, 6.67, 5.82, 5.16]\n",
      "22  out_test_first32-in_order                          P0193      0.9830               [-12.68, 11.15, 10.68, 9.53, 9.02]\n",
      "23  out_test_first32-in_order                          P0204      0.9884               [-16.1, 13.98, 11.47, 11.39, 10.27]\n",
      "24  out_test_first32-in_order                          P0206      0.9829               [-7.54, -6.7, -6.46]\n",
      "25  out_test_first32-in_order                          P0212      0.9905               [34.47, -15.67, -14.23, 10.85, 10.3]\n",
      "26  out_test_first32-in_order                          P0213      0.9859               [-7.97, 7.62, -7.61, -7.44, -7.07]\n",
      "27  out_test_first32-in_order                          P0223      0.9923               [-12.21, -11.9, 11.51, -9.89, 9.64]\n",
      "28  out_test_first32-in_order                          P0224      0.9778               [18.91, -12.51, 10.01, -8.74, 8.01]\n",
      "29  out_test_first32-in_order                          P0226      0.9913               [-14.95, -5.81]\n",
      "30  out_test_first32-in_order                          P0227      0.9833               []\n",
      "31  out_test_first32-in_order                          P0228      0.9863               [-10.39, 8.12, -7.98, -6.96, 6.57]\n",
      "32  out_test_first32-in_order                          P0231      0.9929               [-14.09, -13.27, 13.27, -12.89, 12.36]\n",
      "33  out_test_first32-in_order                          P0255      0.9760               [13.82, -12.57, -9.95, -9.63, -8.55]\n",
      " 2  out_test_last33                                    P0263      0.7126               [-9.74, -6.59, 5.62]\n",
      " 3  out_test_last33                                    P0271      0.9844               [-7.23, -6.37, 6.13, 6.03]\n",
      " 4  out_test_last33                                    P0277      0.9808               [17.57, -13.03, 11.79, -9.92, -9.22]\n",
      " 5  out_test_last33                                    P0282      0.9715               [-14.45, 9.24, 9.09, -8.88, 7.74]\n",
      " 6  out_test_last33                                    P0283      0.9868               [-8.69, -8.07, 7.7, -7.36, 6.39]\n",
      " 7  out_test_last33                                    P0284      0.9910               [15.6, 13.26, -12.89, -12.01, -9.49]\n",
      " 8  out_test_last33                                    P0301      0.9761               [-11.46, 9.17, 8.85, 8.28, 7.59]\n",
      " 9  out_test_last33                                    P0302      0.9809               [-14.58, 13.59, 11.77, 10.75, 10.03]\n",
      "10  out_test_last33                                    P0303      0.9742               [11.96, -10.08, 6.18, 6.14, 5.82]\n",
      "11  out_test_last33                                    P0305      0.9784               [-7.84, -6.25, -6.02]\n",
      "12  out_test_last33                                    P0306      0.9936               [-14.11, -12.1, 8.43, 7.83, -7.63]\n",
      "13  out_test_last33                                    P0309      0.9959               []\n",
      "14  out_test_last33                                    P0319      0.9852               [-12.91, -7.28, 5.92]\n",
      "15  out_test_last33                                    P0321      0.9858               [-8.77, 8.28, -6.77, -6.39]\n",
      "16  out_test_last33                                    P0326      0.9828               [25.03, 22.6, -14.43, -13.85, 9.9]\n",
      "17  out_test_last33                                    P0328      0.9953               [-10.9, 7.59, 7.47, -7.33, 6.66]\n",
      "18  out_test_last33                                    P0333      0.9964               [-7.9, -5.86, -5.61]\n",
      "19  out_test_last33                                    P0337      0.9927               [-6.46, 6.21]\n",
      "20  out_test_last33                                    P0338      0.9972               [-8.55, -8.16, -7.81]\n",
      "21  out_test_last33                                    P0341      0.9920               [-16.72, -15.97, -11.5, 11.28, -8.67]\n",
      "22  out_test_last33                                    P0343      0.9878               []\n",
      "23  out_test_last33                                    P0344      0.9917               [-9.37]\n",
      "24  out_test_last33                                    P0345      0.9941               [28.68, 11.6, 6.37, 5.87, 5.67]\n",
      "25  out_test_last33                                    P0346      0.9925               [-11.98, -9.75, 7.63, 6.94, -6.71]\n",
      "26  out_test_last33                                    P0347      0.9962               [8.63, 8.11, -7.64, 6.46, -6.34]\n",
      "27  out_test_last33                                    P0348      0.9947               [-15.37, 12.66, -11.77, -11.12, -10.74]\n",
      "28  out_test_last33                                    P0354      0.9944               [-6.12]\n",
      "29  out_test_last33                                    P0357      0.9950               [-13.47, 9.45, -9.11, 8.26, 8.15]\n",
      "30  out_test_last33                                    P0358      0.9888               [-17.8, 15.89, -15.53, 14.66, 12.82]\n",
      "31  out_test_last33                                    P0360      0.9942               [7.72, -5.97]\n",
      "32  out_test_last33                                    P0361      0.9946               [-10.17, -8.24, -6.69]\n",
      "33  out_test_last33                                    P0365      0.9894               [-10.3, -10.14, -8.54, 7.65, 7.12]\n",
      "34  out_test_last33                                    P0371      0.9933               [9.31, -7.45, 6.28, 5.94]\n"
     ]
    }
   ],
   "source": [
    "print(f'    {\"careless run\":50s} {\"dataset\":10s} {\"CCpred,test\":20s} {\"top 5 ligand peak rmsds\"}')\n",
    "print(\"_\"*120)\n",
    "for j,holo in enumerate(dataset_names[:32]):\n",
    "    for i,file_in in enumerate([\n",
    "                               \"out_test_first32-in_order\",\n",
    "                               ]):\n",
    "    \n",
    "\n",
    "        stats = pd.read_csv(f\"{file_in}/out_{holo}.csv\")\n",
    "        heights = stats[stats[\"residue\"]==\"LIG\"]\n",
    "        heights = heights[\"peakz\"][:5].to_numpy().round(decimals=2)\n",
    "        \n",
    "        bulk_ccpreds = pd.read_csv(f\"{file_in}/e35_ccpred_b.csv\")\n",
    "        ccpred_condition = (bulk_ccpreds[\"file\"]==f\"merged_e35_predictions_{j+2}.mtz\"\n",
    "                                 )*(bulk_ccpreds[\"test\"]==\"Test\")\n",
    "        bulk_ccpred = bulk_ccpreds[ccpred_condition][\"CCpred\"]\n",
    "        \n",
    "        print(f'{j+2:2.0f}  {file_in:50s} {holo:10s} {float(bulk_ccpred):0.4f}               {list(heights)}')\n",
    "        \n",
    "for j,holo in enumerate(dataset_names[32:]):\n",
    "    for i,file_in in enumerate([\n",
    "                               \"out_test_last33\",\n",
    "                               ]):\n",
    "    \n",
    "\n",
    "        stats = pd.read_csv(f\"{file_in}/out_{holo}.csv\")\n",
    "        heights = stats[stats[\"residue\"]==\"LIG\"]\n",
    "        heights = heights[\"peakz\"][:5].to_numpy().round(decimals=2)\n",
    "        \n",
    "        bulk_ccpreds = pd.read_csv(f\"{file_in}/e35_ccpred_b.csv\")\n",
    "        ccpred_condition = (bulk_ccpreds[\"file\"]==f\"merged_e35_predictions_{j+2}.mtz\"\n",
    "                                 )*(bulk_ccpreds[\"test\"]==\"Test\")\n",
    "        bulk_ccpred = bulk_ccpreds[ccpred_condition][\"CCpred\"]\n",
    "        \n",
    "        print(f'{j+2:2.0f}  {file_in:50s} {holo:10s} {float(bulk_ccpred):0.4f}               {list(heights)}')"
   ]
  },
  {
   "cell_type": "markdown",
   "id": "607e5daa-3793-40a5-b888-812079b617e3",
   "metadata": {},
   "source": [
    "Does adding the file_id flag improve things? does dropping the dw flags do anything?"
   ]
  },
  {
   "cell_type": "code",
   "execution_count": 17,
   "id": "15b06866-25c1-436e-86c4-203892475c5b",
   "metadata": {},
   "outputs": [
    {
     "name": "stdout",
     "output_type": "stream",
     "text": [
      "    careless run                                       dataset    CCpred,test          top 5 ligand peak rmsds\n",
      "________________________________________________________________________________________________________________________\n",
      " 0  out_test_first32-file_id                           P0115      0.9961               [30.42, -15.64, -14.16, 13.97, -13.33]\n",
      " 1  out_test_first32-in_order                          P0115      0.9960               [30.54, -15.67, -14.19, 13.9, -13.46]\n",
      " 2  out_test_first32-no_dw                             P0115      0.9957               [29.58, -14.52, -13.82, 13.34, 12.86]\n",
      " 3  out_test_first32-0                                 P0115      0.9957               [29.62, -14.53, -13.81, 13.32, 12.9]\n",
      " 4  out_test_first32-0,5                               P0115      0.9959               [30.64, -15.31, -14.26, 13.85, -13.53]\n",
      " 5  out_test_first32-0,75                              P0115      0.9960               [30.83, -15.57, -14.24, 13.81, -13.53]\n",
      " 6  out_test_first32-0,875                             P0115      0.9960               [30.65, -15.7, -14.2, 13.95, -13.56]\n",
      " 7  out_test_first32-0,9375                            P0115      0.9960               [30.15, -15.47, -14.1, 13.75, -13.47]\n",
      " 8  out_test_first32-0,96875                           P0115      0.9960               [29.49, -15.49, -14.0, 13.85, -13.15]\n",
      " 9  out_test_first32-0,984375                          P0115      0.9960               [28.63, -15.23, 13.75, -13.48, -12.81]\n",
      "10  out_test_first4-mlp_layers-rdw0.9_stdT             P0115      0.9967               [32.46, -16.27, -15.15, 15.09, -14.45]\n",
      "------------------------------------------------------------------------------------------------------------------------\n",
      " 0  out_test_first32-file_id                           P0116      0.9874               [-14.03, 8.87, -7.99, 7.92, 7.45]\n",
      " 1  out_test_first32-in_order                          P0116      0.9875               [-14.16, 8.86, -7.93, 7.84, 7.37]\n",
      " 2  out_test_first32-no_dw                             P0116      0.9869               [-12.74, 7.73, -7.67, 7.01, 6.43]\n",
      " 3  out_test_first32-0                                 P0116      0.9869               [-12.75, 7.75, -7.67, 7.08, 6.45]\n",
      " 4  out_test_first32-0,5                               P0116      0.9874               [-13.27, 8.37, -7.81, 7.12, 7.04]\n",
      " 5  out_test_first32-0,75                              P0116      0.9874               [-13.73, 8.58, -7.83, 7.54, 7.3]\n",
      " 6  out_test_first32-0,875                             P0116      0.9875               [-14.18, 8.76, 7.8, -7.78, 7.32]\n",
      " 7  out_test_first32-0,9375                            P0116      0.9875               [-14.2, 9.02, 8.05, -7.91, 7.47]\n",
      " 8  out_test_first32-0,96875                           P0116      0.9876               [-14.45, 9.25, 8.17, -7.9, 7.43]\n",
      " 9  out_test_first32-0,984375                          P0116      0.9876               [-14.56, 9.11, -7.91, 7.41, 7.25]\n",
      "10  out_test_first4-mlp_layers-rdw0.9_stdT             P0116      0.9884               [-14.54, 9.03, -8.07, 7.76, 7.67]\n",
      "------------------------------------------------------------------------------------------------------------------------\n",
      " 0  out_test_first32-file_id                           P0123      0.9974               [-7.62, 6.83, 6.63, 6.61, -6.02]\n",
      " 1  out_test_first32-in_order                          P0123      0.9974               [-7.78, 6.99, 6.79, 6.38, -6.09]\n",
      " 2  out_test_first32-no_dw                             P0123      0.9972               [-7.46, 7.06, 6.46, 6.13, -5.71]\n",
      " 3  out_test_first32-0                                 P0123      0.9972               [-7.47, 7.04, 6.49, 6.11, -5.73]\n",
      " 4  out_test_first32-0,5                               P0123      0.9973               [-7.75, 7.14, 6.77, 6.51, -6.05]\n",
      " 5  out_test_first32-0,75                              P0123      0.9974               [-7.76, 7.12, 6.83, 6.37, -6.12]\n",
      " 6  out_test_first32-0,875                             P0123      0.9974               [-7.7, 6.97, 6.81, 6.44, -6.07]\n",
      " 7  out_test_first32-0,9375                            P0123      0.9974               [-7.8, 7.02, 6.82, 6.4, -6.19]\n",
      " 8  out_test_first32-0,96875                           P0123      0.9973               [-7.65, 6.81, 6.77, 6.42, -6.08]\n",
      " 9  out_test_first32-0,984375                          P0123      0.9973               [-7.38, 6.68, 6.68, 6.31, 6.08]\n",
      "10  out_test_first4-mlp_layers-rdw0.9_stdT             P0123      0.9974               [-7.73, 7.08, 6.81, 6.33, -6.18]\n",
      "------------------------------------------------------------------------------------------------------------------------\n",
      " 0  out_test_first32-file_id                           P0124      0.9972               [-16.61, 11.95, 11.88, 10.7, -9.63]\n",
      " 1  out_test_first32-in_order                          P0124      0.9968               [-16.64, 11.83, 11.47, 10.58, -9.62]\n",
      " 2  out_test_first32-no_dw                             P0124      0.9963               [-15.34, 11.3, 10.99, 10.31, -9.02]\n",
      " 3  out_test_first32-0                                 P0124      0.9963               [-15.34, 11.3, 11.01, 10.24, -9.07]\n",
      " 4  out_test_first32-0,5                               P0124      0.9967               [-16.13, 11.61, 11.51, 10.64, -9.67]\n",
      " 5  out_test_first32-0,75                              P0124      0.9968               [-16.52, 11.67, 11.67, 10.64, -9.66]\n",
      " 6  out_test_first32-0,875                             P0124      0.9968               [-16.62, 11.82, 11.44, 10.67, -9.49]\n",
      " 7  out_test_first32-0,9375                            P0124      0.9969               [-16.89, 11.93, 11.62, 10.69, -9.61]\n",
      " 8  out_test_first32-0,96875                           P0124      0.9968               [-16.97, 12.06, 11.53, 10.9, -9.31]\n",
      " 9  out_test_first32-0,984375                          P0124      0.9968               [-16.72, 11.86, 11.41, 10.55, -9.24]\n",
      "10  out_test_first4-mlp_layers-rdw0.9_stdT             P0124      0.9973               [-16.85, 11.94, 11.9, 10.47, -9.47]\n",
      "------------------------------------------------------------------------------------------------------------------------\n"
     ]
    }
   ],
   "source": [
    "print(f'    {\"careless run\":50s} {\"dataset\":10s} {\"CCpred,test\":20s} {\"top 5 ligand peak rmsds\"}')\n",
    "print(\"_\"*120)\n",
    "\n",
    "for j,holo in enumerate([\"P0115\",\"P0116\",\"P0123\",\"P0124\"]):\n",
    "    for i,file_in in enumerate([\n",
    "                            \"out_test_first32-file_id\",\n",
    "                            \"out_test_first32-in_order\",\n",
    "                            \"out_test_first32-no_dw\",\n",
    "                            \"out_test_first32-0\",\n",
    "                            \"out_test_first32-0,5\",\n",
    "                            \"out_test_first32-0,75\",\n",
    "                            \"out_test_first32-0,875\",\n",
    "                            \"out_test_first32-0,9375\",\n",
    "                            \"out_test_first32-0,96875\",\n",
    "                            \"out_test_first32-0,984375\",\n",
    "                            \"out_test_first4-mlp_layers-rdw0.9_stdT\"\n",
    "                               ]):\n",
    "    \n",
    "\n",
    "        stats = pd.read_csv(f\"{file_in}/out_{holo}.csv\")\n",
    "        heights = stats[stats[\"residue\"]==\"LIG\"]\n",
    "        heights = heights[\"peakz\"][:5].to_numpy().round(decimals=2)\n",
    "        \n",
    "        bulk_ccpreds = pd.read_csv(f\"{file_in}/e35_ccpred_b.csv\")\n",
    "        ccpred_condition = (bulk_ccpreds[\"file\"]==f\"merged_e35_predictions_{j+2}.mtz\"\n",
    "                                 )*(bulk_ccpreds[\"test\"]==\"Test\")\n",
    "        bulk_ccpred = bulk_ccpreds[ccpred_condition][\"CCpred\"]\n",
    "        \n",
    "        print(f'{i:2.0f}  {file_in:50s} {holo:10s} {float(bulk_ccpred):0.4f}               {list(heights)}')\n",
    "    print(\"-\"*120)"
   ]
  },
  {
   "cell_type": "code",
   "execution_count": 13,
   "id": "cd3c0fab-b2a6-4b70-aa03-ad5aa5a0b32d",
   "metadata": {},
   "outputs": [],
   "source": [
    "import reciprocalspaceship as rs"
   ]
  },
  {
   "cell_type": "markdown",
   "id": "e0b8b797-b06c-46df-aa68-b21c887f8aa6",
   "metadata": {},
   "source": [
    "Not particularly."
   ]
  },
  {
   "cell_type": "code",
   "execution_count": 4,
   "id": "1f8ba9ad-94b6-4594-9cdb-4234aa79e7ef",
   "metadata": {},
   "outputs": [
    {
     "name": "stdout",
     "output_type": "stream",
     "text": [
      "    careless run                                       dataset    CCpred,test          top 5 ligand peak rmsds\n",
      "________________________________________________________________________________________________________________________\n"
     ]
    },
    {
     "ename": "NameError",
     "evalue": "name 'dataset_names' is not defined",
     "output_type": "error",
     "traceback": [
      "\u001b[0;31m---------------------------------------------------------------------------\u001b[0m",
      "\u001b[0;31mNameError\u001b[0m                                 Traceback (most recent call last)",
      "Cell \u001b[0;32mIn[4], line 4\u001b[0m\n\u001b[1;32m      1\u001b[0m \u001b[38;5;28mprint\u001b[39m(\u001b[38;5;124mf\u001b[39m\u001b[38;5;124m'\u001b[39m\u001b[38;5;124m    \u001b[39m\u001b[38;5;132;01m{\u001b[39;00m\u001b[38;5;124m\"\u001b[39m\u001b[38;5;124mcareless run\u001b[39m\u001b[38;5;124m\"\u001b[39m\u001b[38;5;132;01m:\u001b[39;00m\u001b[38;5;124m50s\u001b[39m\u001b[38;5;132;01m}\u001b[39;00m\u001b[38;5;124m \u001b[39m\u001b[38;5;132;01m{\u001b[39;00m\u001b[38;5;124m\"\u001b[39m\u001b[38;5;124mdataset\u001b[39m\u001b[38;5;124m\"\u001b[39m\u001b[38;5;132;01m:\u001b[39;00m\u001b[38;5;124m10s\u001b[39m\u001b[38;5;132;01m}\u001b[39;00m\u001b[38;5;124m \u001b[39m\u001b[38;5;132;01m{\u001b[39;00m\u001b[38;5;124m\"\u001b[39m\u001b[38;5;124mCCpred,test\u001b[39m\u001b[38;5;124m\"\u001b[39m\u001b[38;5;132;01m:\u001b[39;00m\u001b[38;5;124m20s\u001b[39m\u001b[38;5;132;01m}\u001b[39;00m\u001b[38;5;124m \u001b[39m\u001b[38;5;132;01m{\u001b[39;00m\u001b[38;5;124m\"\u001b[39m\u001b[38;5;124mtop 5 ligand peak rmsds\u001b[39m\u001b[38;5;124m\"\u001b[39m\u001b[38;5;132;01m}\u001b[39;00m\u001b[38;5;124m'\u001b[39m)\n\u001b[1;32m      2\u001b[0m \u001b[38;5;28mprint\u001b[39m(\u001b[38;5;124m\"\u001b[39m\u001b[38;5;124m_\u001b[39m\u001b[38;5;124m\"\u001b[39m\u001b[38;5;241m*\u001b[39m\u001b[38;5;241m120\u001b[39m)\n\u001b[0;32m----> 4\u001b[0m \u001b[38;5;28;01mfor\u001b[39;00m j,holo \u001b[38;5;129;01min\u001b[39;00m \u001b[38;5;28menumerate\u001b[39m(\u001b[43mdataset_names\u001b[49m[\u001b[38;5;241m32\u001b[39m:]):\n\u001b[1;32m      5\u001b[0m     \u001b[38;5;28;01mfor\u001b[39;00m i,file_in \u001b[38;5;129;01min\u001b[39;00m \u001b[38;5;28menumerate\u001b[39m([\n\u001b[1;32m      6\u001b[0m                                \u001b[38;5;124m\"\u001b[39m\u001b[38;5;124mout_test_last33-dw_r\u001b[39m\u001b[38;5;124m\"\u001b[39m,\n\u001b[1;32m      7\u001b[0m                                ]):\n\u001b[1;32m     10\u001b[0m         stats \u001b[38;5;241m=\u001b[39m pd\u001b[38;5;241m.\u001b[39mread_csv(\u001b[38;5;124mf\u001b[39m\u001b[38;5;124m\"\u001b[39m\u001b[38;5;132;01m{\u001b[39;00mfile_in\u001b[38;5;132;01m}\u001b[39;00m\u001b[38;5;124m/out_\u001b[39m\u001b[38;5;132;01m{\u001b[39;00mholo\u001b[38;5;132;01m}\u001b[39;00m\u001b[38;5;124m.csv\u001b[39m\u001b[38;5;124m\"\u001b[39m)\n",
      "\u001b[0;31mNameError\u001b[0m: name 'dataset_names' is not defined"
     ]
    }
   ],
   "source": [
    "print(f'    {\"careless run\":50s} {\"dataset\":10s} {\"CCpred,test\":20s} {\"top 5 ligand peak rmsds\"}')\n",
    "print(\"_\"*120)\n",
    "        \n",
    "for j,holo in enumerate(dataset_names[32:]):\n",
    "    for i,file_in in enumerate([\n",
    "                               \"out_test_last33-dw_r\",\n",
    "                               ]):\n",
    "    \n",
    "\n",
    "        stats = pd.read_csv(f\"{file_in}/out_{holo}.csv\")\n",
    "        heights = stats[stats[\"residue\"]==\"LIG\"]\n",
    "        heights = heights[\"peakz\"][:5].to_numpy().round(decimals=2)\n",
    "        \n",
    "        bulk_ccpreds = pd.read_csv(f\"{file_in}/e35_ccpred_b.csv\")\n",
    "        ccpred_condition = (bulk_ccpreds[\"file\"]==f\"merged_e35_predictions_{j+2}.mtz\"\n",
    "                                 )*(bulk_ccpreds[\"test\"]==\"Test\")\n",
    "        bulk_ccpred = bulk_ccpreds[ccpred_condition][\"CCpred\"]\n",
    "        \n",
    "        print(f'{j+2:2.0f}  {file_in:50s} {holo:10s} {float(bulk_ccpred):0.4f}               {list(heights)}')"
   ]
  },
  {
   "cell_type": "code",
   "execution_count": 64,
   "id": "133aa98f-107e-48fb-bfec-4359d3b05b2c",
   "metadata": {},
   "outputs": [
    {
     "name": "stdout",
     "output_type": "stream",
     "text": [
      "197\n"
     ]
    }
   ],
   "source": [
    "a = \"\"\"0.978,0.979,0.981,0.982,0.972,0.973,0.981,0.978,0.980,0.983,0.981,0.968,0.980,0.983,0.973,0.966,0.985,0.978,0.976,0.983,0.977,0.974,0.975,0.982,0.974,0.965,0.979,0.975,0.967,0.970,0.978,0.976,0.957,0.978,0.942,0.981,0.977,0.975,0.976,0.973,0.980,0.981,\"\"\"\n",
    "incr = 0\n",
    "for i,char in enumerate(a):\n",
    "    if char==\",\":\n",
    "        incr+=1\n",
    "        if incr == 33:\n",
    "            print(i)\n",
    "        "
   ]
  },
  {
   "cell_type": "code",
   "execution_count": 65,
   "id": "076d336f-d245-4a9d-a920-3aec810b1808",
   "metadata": {},
   "outputs": [
    {
     "data": {
      "text/plain": [
       "'0.978,0.979,0.981,0.982,0.972,0.973,0.981,0.978,0.980,0.983,0.981,0.968,0.980,0.983,0.973,0.966,0.985,0.978,0.976,0.983,0.977,0.974,0.975,0.982,0.974,0.965,0.979,0.975,0.967,0.970,0.978,0.976,0.957'"
      ]
     },
     "execution_count": 65,
     "metadata": {},
     "output_type": "execute_result"
    }
   ],
   "source": [
    "a[:197]"
   ]
  },
  {
   "cell_type": "code",
   "execution_count": null,
   "id": "9ae4d86c-9924-404e-90f2-70414f408f4e",
   "metadata": {},
   "outputs": [],
   "source": []
  }
 ],
 "metadata": {
  "kernelspec": {
   "display_name": "Python [conda env:anaconda-laue]",
   "language": "python",
   "name": "conda-env-anaconda-laue-py"
  },
  "language_info": {
   "codemirror_mode": {
    "name": "ipython",
    "version": 3
   },
   "file_extension": ".py",
   "mimetype": "text/x-python",
   "name": "python",
   "nbconvert_exporter": "python",
   "pygments_lexer": "ipython3",
   "version": "3.11.7"
  }
 },
 "nbformat": 4,
 "nbformat_minor": 5
}
