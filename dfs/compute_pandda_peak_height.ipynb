{
 "cells": [
  {
   "cell_type": "code",
   "execution_count": 1,
   "id": "cf5ad767-7da5-444a-8204-403cdef0bad9",
   "metadata": {},
   "outputs": [],
   "source": [
    "import reciprocalspaceship as rs\n",
    "import gemmi as gm\n",
    "import os\n",
    "import numpy as np"
   ]
  },
  {
   "cell_type": "code",
   "execution_count": 2,
   "id": "6012c13b-c3a5-475c-b44b-9cf4333ed145",
   "metadata": {},
   "outputs": [],
   "source": [
    "\n",
    "base_dir = \"/n/home01/hwang6/Storelab/projects/dw-examples/dfs/20221007_unscaled_unmerged/\"\n",
    "for dataset in [\"P0115\", \"P0116\", \"P0123\" ,\"P0124\",\n",
    "                \"P0131\", \"P0132\", \"P0137\", \"P0138\",\n",
    "                \"P0139\", \"P0142\", \"P0148\", \"P0159\",\n",
    "                \"P0161\", \"P0163\", \"P0178\", \"P0179\"]:\n",
    "    os.chdir(base_dir+f\"UCSF-{dataset}\")\n",
    "    a = gm.read_ccp4_map(f\"UCSF-{dataset}-z_map.native.ccp4\")\n",
    "    array = a.grid.array\n",
    "    gridsize = array.shape[::-1]\n",
    "    grid = gm.FloatGrid(*gridsize)\n",
    "    grid.set_unit_cell(a.grid.unit_cell)\n",
    "    grid.spacegroup=gm.SpaceGroup(\"P43\")\n",
    "    temp = np.array(grid,copy=False)\n",
    "    temp[:,:,:]= array.T[:,:,:]\n",
    "    rs.io.write_ccp4_map(\n",
    "        grid.array, \n",
    "        f\"UCSF-{dataset}-z_map.native_T.ccp4\",\n",
    "        cell=grid.unit_cell, \n",
    "        spacegroup=grid.spacegroup)\n",
    "\n",
    "    "
   ]
  },
  {
   "cell_type": "code",
   "execution_count": null,
   "id": "55938d86-a9cf-46e0-9518-6c3502886ea7",
   "metadata": {},
   "outputs": [],
   "source": [
    "%%bash \n",
    "cd ..\n",
    "for dataset in \"P0115\" \"P0116\" \"P0123\" \"P0124\" \"P0131\" \"P0132\" \"P0137\" \"P0138\" \"P0139\" \"P0142\" \"P0148\" \"P0159\" \"P0161\" \"P0163\" \"P0178\" \"P0179\"\n",
    "do\n",
    "    cd UCSF-${dataset}\n",
    "    rs.find_difference_peaks ./UCSF-${dataset}-pandda-model.pdb -z 5 -c UCSF-${dataset}-z_map.native_T.ccp4 -o out_${dataset}_pandda.csv\n",
    "    cd ..\n",
    "done\n"
   ]
  }
 ],
 "metadata": {
  "kernelspec": {
   "display_name": "Python 3 (ipykernel)",
   "language": "python",
   "name": "python3"
  },
  "language_info": {
   "codemirror_mode": {
    "name": "ipython",
    "version": 3
   },
   "file_extension": ".py",
   "mimetype": "text/x-python",
   "name": "python",
   "nbconvert_exporter": "python",
   "pygments_lexer": "ipython3",
   "version": "3.11.7"
  }
 },
 "nbformat": 4,
 "nbformat_minor": 5
}
