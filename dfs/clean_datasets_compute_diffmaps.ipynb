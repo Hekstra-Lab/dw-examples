{
 "cells": [
  {
   "cell_type": "code",
   "execution_count": 1,
   "id": "07d76799-5ebc-40db-89a2-b0217697f729",
   "metadata": {},
   "outputs": [],
   "source": [
    "import reciprocalspaceship as rs\n",
    "import glob\n",
    "import pandas as pd\n",
    "import os\n",
    "import numpy as np\n",
    "import gemmi"
   ]
  },
  {
   "cell_type": "markdown",
   "id": "06e443d4-00b1-44d0-a63a-54ee54138dae",
   "metadata": {},
   "source": [
    "This jupyter notebook is for processing the MTZ files contained in the folder `20221007_unscaled_unmerged`, the outputs of `hkl2mtz.sh`. The datasets must all have the same indexing orientation, so we reindex those datasets that are not well-correlated to the references, `apo_edit.pdb` or `7kqo.pdb`. Additionally, some outliers are rejected. Finally, we one-hot encode each dataset. "
   ]
  },
  {
   "cell_type": "markdown",
   "id": "da46a800-2f86-4cb7-9b82-ac390218f342",
   "metadata": {},
   "source": [
    "There is an indexing ambiguity in P43, so some of the datasets need to be reindexed. We first flip the reference to correlate well with the reference model. "
   ]
  },
  {
   "cell_type": "code",
   "execution_count": 2,
   "id": "7a4d3e32-b181-40e4-be83-068629142242",
   "metadata": {},
   "outputs": [],
   "source": [
    "def mtz_corr(a,d,key=\"IOBS\"):\n",
    "    return d.merge(a, on=[\"H\",\"K\",\"L\"],check_isomorphous=False).corr()[f\"{key}_x\"][f\"{key}_y\"]\n",
    "\n",
    "def mtz_flip(mtz_path):\n",
    "    name,_=os.path.splitext(mtz_path)\n",
    "    a = rs.read_mtz(mtz_path)\n",
    "    a = a.apply_symop(\"y,x,-z\").hkl_to_asu()\n",
    "    #a.spacegroup = gemmi.SpaceGroup(\"P 4\") #otherwise rs.diffmap will throw a non-isomorphous error\n",
    "    a.write_mtz(name+\"_flip.mtz\")\n",
    "    \n",
    "def transfer_phases(ref, mtz):\n",
    "    mtz.merge(ref[\"FreeR_flag\"],on=[\"H\",\"K\",\"L\"],how=\"left\")\n",
    "    return mtz"
   ]
  },
  {
   "cell_type": "code",
   "execution_count": 3,
   "id": "f25976f9-f873-459c-a85c-334f26e41d44",
   "metadata": {},
   "outputs": [],
   "source": [
    "a = rs.read_mtz(\"./20221007_unscaled_unmerged/reference/out.mtz\")\n",
    "#a = a.rename(columns={\"XD\":\"XCAL\",\"YD\":\"YCAL\",\"ZD\":\"ZCAL\"})\n",
    "a = a[a[\"IOBS\"]<2e5]\n",
    "a[\"SIGMA\"]=a[\"SIGMA\"]*np.sqrt(2) #this is due to the reference mtz used twice in the scaling and merging. \n",
    "#a = a.apply_symop(\"y,x,-z\")\n",
    "\n",
    "#we add a one-hot encoding of the reference dataset. \n",
    "for i in range(32):\n",
    "    a[f\"ds_{i}\"]=0\n",
    "    a[f\"ds_{i}\"]=a[f\"ds_{i}\"].astype(\"MTZInt\")\n",
    "a[f\"ds_ref\"]=1\n",
    "a[f\"ds_ref\"]=a[f\"ds_ref\"].astype(\"MTZInt\")\n",
    "a\n",
    "a.write_mtz(\"./20221007_unscaled_unmerged/reference/out_corrected_root2_ohp.mtz\")"
   ]
  },
  {
   "cell_type": "markdown",
   "id": "96f80eb1-3e5c-4cbe-a016-7bde7b7c74c1",
   "metadata": {},
   "source": [
    "We then cut the holo datasets at 2e5 intensity as an outlier removal."
   ]
  },
  {
   "cell_type": "code",
   "execution_count": 25,
   "id": "850c50d8-a22b-4aa8-a65c-b46a72a053c9",
   "metadata": {},
   "outputs": [],
   "source": [
    "# Assuming the files are in the directory 'test' relative to the current directory\n",
    "file_pattern = './20221007_unscaled_unmerged/UCSF-P*/out.mtz'\n",
    "files = glob.glob(file_pattern)\n",
    "\n",
    "cells = []\n",
    "for file in files:\n",
    "    name,_=os.path.splitext(file)\n",
    "    t = rs.read_mtz(file)\n",
    "    t = t[t[\"IOBS\"]<2e5]\n",
    "    t = t.write_mtz(name+\"cut.mtz\")\n",
    "    #cells.append(rs.read_mtz(file).cell)"
   ]
  },
  {
   "cell_type": "markdown",
   "id": "917d4d0c-68a8-4813-a53b-02e594f0bb2e",
   "metadata": {},
   "source": [
    "We flip the fragment hits if the correlation with the unflipped reference is low. We make sure the pearson correlation is high -- indeed, it's greater than 0.9 for all the datasets, after flipping. "
   ]
  },
  {
   "cell_type": "code",
   "execution_count": null,
   "id": "d052e5e5-1e47-4edf-897b-8b5ac3d438e2",
   "metadata": {},
   "outputs": [],
   "source": [
    "a = rs.read_mtz(\"./20221007_unscaled_unmerged/reference/out_corrected.mtz\")\n",
    "\n",
    "file_pattern = './20221007_unscaled_unmerged/UCSF-P*/out.mtz'\n",
    "files = glob.glob(file_pattern)\n",
    "files.sort()"
   ]
  },
  {
   "cell_type": "code",
   "execution_count": 3,
   "id": "6e22dc7b-5a3f-47a1-a2a4-6746379341f5",
   "metadata": {
    "scrolled": true,
    "tags": []
   },
   "outputs": [],
   "source": [
    "for in_str in files:\n",
    "    t = rs.read_mtz(in_str)\n",
    "    name,_=os.path.splitext(in_str)\n",
    "    t = t[t[\"IOBS\"]<2e5]\n",
    "    t = t.apply_symop(\"y,x,-z\").hkl_to_asu()\n",
    "    corr = mtz_corr(a,t)\n",
    "    if corr < 0.8:\n",
    "        t = t.apply_symop(\"y,x,-z\").hkl_to_asu()\n",
    "        corr = mtz_corr(a,t)\n",
    "    t.write_mtz(name+\"_cut_flip.mtz\")\n",
    "    print(f\"{np.sqrt(corr):0.3f},\",end=\"\")\n",
    "    #print(f\"reference r with mtz {in_str}: {corr:0.4f}\")"
   ]
  },
  {
   "cell_type": "markdown",
   "id": "455048e4-9e30-4236-ad28-042cf725cb2f",
   "metadata": {},
   "source": [
    "I add one-hot encoding. "
   ]
  },
  {
   "cell_type": "code",
   "execution_count": 16,
   "id": "04ca05fc-ca8b-400d-bea3-c9960d7be97b",
   "metadata": {},
   "outputs": [
    {
     "name": "stdout",
     "output_type": "stream",
     "text": [
      "ds_0,ds_1,ds_2,ds_3,ds_4,ds_5,ds_6,ds_7,ds_8,ds_9,ds_10,ds_11,ds_12,ds_13,ds_14,ds_15,ds_16,ds_17,ds_18,ds_19,ds_20,ds_21,ds_22,ds_23,ds_24,ds_25,ds_26,ds_27,ds_28,ds_29,ds_30,ds_31,"
     ]
    }
   ],
   "source": [
    "for ds_num,in_str in enumerate(files[:32]):\n",
    "    name,_=os.path.splitext(in_str)\n",
    "    t = rs.read_mtz(name+\"_cut_flip.mtz\")\n",
    "    t[f\"ds_ref\"]=0\n",
    "    t[f\"ds_ref\"]=t[f\"ds_ref\"].astype(\"MTZInt\")\n",
    "    for i in range(32):\n",
    "        t[f\"ds_{i}\"]=(i==ds_num)\n",
    "        t[f\"ds_{i}\"]=t[f\"ds_{i}\"].astype(\"MTZInt\")\n",
    "    print(f\"ds_{ds_num},\",end=\"\")\n",
    "    t.write_mtz(name+\"_ohp.mtz\")"
   ]
  },
  {
   "cell_type": "code",
   "execution_count": null,
   "id": "3839d2cf-f252-4442-a472-6f5e414409a5",
   "metadata": {},
   "outputs": [
    {
     "data": {
      "text/plain": [
       "'../20221007_unscaled_unmerged/UCSF-P0178/out.mtz'"
      ]
     },
     "execution_count": 25,
     "metadata": {},
     "output_type": "execute_result"
    }
   ],
   "source": [
    "files[14]"
   ]
  },
  {
   "cell_type": "code",
   "execution_count": null,
   "id": "1d081ced-ad2c-44dd-8cd6-8dd239e77abf",
   "metadata": {},
   "outputs": [
    {
     "data": {
      "text/plain": [
       "H   K    L \n",
       "23  -78  13   1 \n",
       "25  -78  11   1 \n",
       "26  -78  11   1 \n",
       "         10   1 \n",
       "27  -78  11   1 \n",
       "              ..\n",
       "9   86   -2   1 \n",
       "10  86   1    1 \n",
       "         0    1 \n",
       "         0    1 \n",
       "         -1   1 \n",
       "Name: ds_14, Length: 1023765, dtype: MTZInt"
      ]
     },
     "execution_count": 26,
     "metadata": {},
     "output_type": "execute_result"
    }
   ],
   "source": [
    "rs.read_mtz('./20221007_unscaled_unmerged/UCSF-P0178/out_ohp.mtz')[\"ds_14\"]"
   ]
  },
  {
   "cell_type": "code",
   "execution_count": null,
   "id": "db07c352-1fcf-47b9-9b35-3e4f0755aa02",
   "metadata": {},
   "outputs": [],
   "source": [
    "t.columns"
   ]
  },
  {
   "cell_type": "code",
   "execution_count": 5,
   "id": "b2ce383d-8bbf-4563-9732-fc9340a65db5",
   "metadata": {},
   "outputs": [],
   "source": [
    "t[\"ds_0\"]=0"
   ]
  },
  {
   "cell_type": "markdown",
   "id": "2abf01f9-38e1-4985-a0ef-b9e4bdf91e69",
   "metadata": {},
   "source": [
    "Hereafter, we use careless and the `slurm-dw-array-grid.sh` file in `./careless_runs` for scaling and merging the `out_ohp` datasets. "
   ]
  }
 ],
 "metadata": {
  "kernelspec": {
   "display_name": "Python 3 (ipykernel)",
   "language": "python",
   "name": "python3"
  },
  "language_info": {
   "codemirror_mode": {
    "name": "ipython",
    "version": 3
   },
   "file_extension": ".py",
   "mimetype": "text/x-python",
   "name": "python",
   "nbconvert_exporter": "python",
   "pygments_lexer": "ipython3",
   "version": "3.11.7"
  }
 },
 "nbformat": 4,
 "nbformat_minor": 5
}
